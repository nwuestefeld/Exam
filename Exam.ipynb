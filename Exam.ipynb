{
 "cells": [
  {
   "cell_type": "markdown",
   "id": "cf73666c-0bfa-436c-a590-391b86f85d5c",
   "metadata": {},
   "source": [
    "## Midterm Exam Python\n",
    "by Nils Wüstefeld"
   ]
  },
  {
   "cell_type": "code",
   "execution_count": 18,
   "id": "2aebd080-cc0c-4a5f-acc8-ece8ab8940a2",
   "metadata": {},
   "outputs": [],
   "source": [
    "import numpy as np\n",
    "import pandas as pd\n",
    "import zipfile\n",
    "import matplotlib.pyplot as plt\n",
    "import seaborn as sns\n",
    "import requests\n",
    "from zipfile import ZipFile\n",
    "from urllib.request import urlopen\n",
    "from io import BytesIO"
   ]
  },
  {
   "cell_type": "code",
   "execution_count": 10,
   "id": "2521ba60-5420-4bfa-951c-dd1e8dc54035",
   "metadata": {},
   "outputs": [],
   "source": [
    " url = 'https://ies-fsv.s3.eu-central-1.amazonaws.com/studentsSets/24094727.zip'"
   ]
  },
  {
   "cell_type": "code",
   "execution_count": 13,
   "id": "c1c1500a-3a0f-4b1c-b358-ec63feb33274",
   "metadata": {},
   "outputs": [],
   "source": [
    "req = requests.get(url).content"
   ]
  },
  {
   "cell_type": "code",
   "execution_count": 20,
   "id": "5bf62537-22f1-4824-be53-357648567e16",
   "metadata": {},
   "outputs": [
    {
     "data": {
      "text/plain": [
       "['data/INTU.csv', 'data/RL.csv', 'data/SYY.csv', 'data/BXP.csv']"
      ]
     },
     "execution_count": 20,
     "metadata": {},
     "output_type": "execute_result"
    }
   ],
   "source": [
    "resp = urlopen('https://ies-fsv.s3.eu-central-1.amazonaws.com/studentsSets/24094727.zip')\n",
    "myzip = ZipFile(BytesIO(resp.read()))\n",
    "myzip.namelist()"
   ]
  },
  {
   "cell_type": "code",
   "execution_count": 22,
   "id": "97d7b6b7-49c1-4ffa-9a27-2e5a2ef4c8f9",
   "metadata": {},
   "outputs": [],
   "source": [
    "with myzip.open('data/INTU.csv') as f:\n",
    "    intu = pd.read_csv(f)"
   ]
  },
  {
   "cell_type": "code",
   "execution_count": 23,
   "id": "9d177288-7fc4-42e2-b68e-196717edb884",
   "metadata": {},
   "outputs": [],
   "source": [
    "with myzip.open('data/RL.csv') as f:\n",
    "    rl = pd.read_csv(f)"
   ]
  },
  {
   "cell_type": "code",
   "execution_count": 24,
   "id": "dd99b90c-8826-430c-a2e1-805e7f4fc39e",
   "metadata": {},
   "outputs": [],
   "source": [
    "with myzip.open('data/SYY.csv') as f:\n",
    "    syy = pd.read_csv(f)"
   ]
  },
  {
   "cell_type": "code",
   "execution_count": 25,
   "id": "141d9ac0-d965-496e-a4e3-becea5ca3c70",
   "metadata": {},
   "outputs": [],
   "source": [
    "with myzip.open('data/BXP.csv') as f:\n",
    "    bxp = pd.read_csv(f)"
   ]
  },
  {
   "cell_type": "code",
   "execution_count": 28,
   "id": "292033ea-f705-43dd-8f0c-6024d881905b",
   "metadata": {},
   "outputs": [
    {
     "data": {
      "text/html": [
       "<div>\n",
       "<style scoped>\n",
       "    .dataframe tbody tr th:only-of-type {\n",
       "        vertical-align: middle;\n",
       "    }\n",
       "\n",
       "    .dataframe tbody tr th {\n",
       "        vertical-align: top;\n",
       "    }\n",
       "\n",
       "    .dataframe thead th {\n",
       "        text-align: right;\n",
       "    }\n",
       "</style>\n",
       "<table border=\"1\" class=\"dataframe\">\n",
       "  <thead>\n",
       "    <tr style=\"text-align: right;\">\n",
       "      <th></th>\n",
       "      <th>Date</th>\n",
       "      <th>Open</th>\n",
       "      <th>High</th>\n",
       "      <th>Low</th>\n",
       "      <th>Close</th>\n",
       "      <th>Volume</th>\n",
       "      <th>Dividends</th>\n",
       "      <th>Stock Splits</th>\n",
       "    </tr>\n",
       "  </thead>\n",
       "  <tbody>\n",
       "    <tr>\n",
       "      <th>0</th>\n",
       "      <td>2017-01-03</td>\n",
       "      <td>107.664</td>\n",
       "      <td>108.568</td>\n",
       "      <td>107.438</td>\n",
       "      <td>108.050</td>\n",
       "      <td>1433800</td>\n",
       "      <td>0.00</td>\n",
       "      <td>0.0</td>\n",
       "    </tr>\n",
       "    <tr>\n",
       "      <th>1</th>\n",
       "      <td>2017-01-04</td>\n",
       "      <td>108.012</td>\n",
       "      <td>108.879</td>\n",
       "      <td>107.626</td>\n",
       "      <td>108.266</td>\n",
       "      <td>871700</td>\n",
       "      <td>0.00</td>\n",
       "      <td>0.0</td>\n",
       "    </tr>\n",
       "    <tr>\n",
       "      <th>2</th>\n",
       "      <td>2017-01-05</td>\n",
       "      <td>108.078</td>\n",
       "      <td>108.982</td>\n",
       "      <td>107.814</td>\n",
       "      <td>108.935</td>\n",
       "      <td>1051400</td>\n",
       "      <td>0.00</td>\n",
       "      <td>0.0</td>\n",
       "    </tr>\n",
       "    <tr>\n",
       "      <th>3</th>\n",
       "      <td>2017-01-06</td>\n",
       "      <td>109.171</td>\n",
       "      <td>110.522</td>\n",
       "      <td>108.793</td>\n",
       "      <td>110.361</td>\n",
       "      <td>997200</td>\n",
       "      <td>0.34</td>\n",
       "      <td>0.0</td>\n",
       "    </tr>\n",
       "    <tr>\n",
       "      <th>4</th>\n",
       "      <td>2017-01-09</td>\n",
       "      <td>110.389</td>\n",
       "      <td>110.474</td>\n",
       "      <td>109.351</td>\n",
       "      <td>110.030</td>\n",
       "      <td>706400</td>\n",
       "      <td>0.00</td>\n",
       "      <td>0.0</td>\n",
       "    </tr>\n",
       "  </tbody>\n",
       "</table>\n",
       "</div>"
      ],
      "text/plain": [
       "         Date     Open     High      Low    Close   Volume  Dividends  \\\n",
       "0  2017-01-03  107.664  108.568  107.438  108.050  1433800       0.00   \n",
       "1  2017-01-04  108.012  108.879  107.626  108.266   871700       0.00   \n",
       "2  2017-01-05  108.078  108.982  107.814  108.935  1051400       0.00   \n",
       "3  2017-01-06  109.171  110.522  108.793  110.361   997200       0.34   \n",
       "4  2017-01-09  110.389  110.474  109.351  110.030   706400       0.00   \n",
       "\n",
       "   Stock Splits  \n",
       "0           0.0  \n",
       "1           0.0  \n",
       "2           0.0  \n",
       "3           0.0  \n",
       "4           0.0  "
      ]
     },
     "execution_count": 28,
     "metadata": {},
     "output_type": "execute_result"
    }
   ],
   "source": [
    "intu.head()\n",
    "#intu.info()"
   ]
  },
  {
   "cell_type": "code",
   "execution_count": 29,
   "id": "d6b4c81f-b5e3-4530-8ff8-c40a408e7377",
   "metadata": {},
   "outputs": [
    {
     "data": {
      "text/html": [
       "<div>\n",
       "<style scoped>\n",
       "    .dataframe tbody tr th:only-of-type {\n",
       "        vertical-align: middle;\n",
       "    }\n",
       "\n",
       "    .dataframe tbody tr th {\n",
       "        vertical-align: top;\n",
       "    }\n",
       "\n",
       "    .dataframe thead th {\n",
       "        text-align: right;\n",
       "    }\n",
       "</style>\n",
       "<table border=\"1\" class=\"dataframe\">\n",
       "  <thead>\n",
       "    <tr style=\"text-align: right;\">\n",
       "      <th></th>\n",
       "      <th>Date</th>\n",
       "      <th>Open</th>\n",
       "      <th>High</th>\n",
       "      <th>Low</th>\n",
       "      <th>Close</th>\n",
       "      <th>Volume</th>\n",
       "      <th>Dividends</th>\n",
       "      <th>Stock Splits</th>\n",
       "    </tr>\n",
       "  </thead>\n",
       "  <tbody>\n",
       "  </tbody>\n",
       "</table>\n",
       "</div>"
      ],
      "text/plain": [
       "Empty DataFrame\n",
       "Columns: [Date, Open, High, Low, Close, Volume, Dividends, Stock Splits]\n",
       "Index: []"
      ]
     },
     "execution_count": 29,
     "metadata": {},
     "output_type": "execute_result"
    }
   ],
   "source": [
    "intu[(intu['High'] == intu['Low'])]"
   ]
  },
  {
   "cell_type": "code",
   "execution_count": 30,
   "id": "1cbe93b7-8ad3-41cc-b9c2-a80ba642322e",
   "metadata": {},
   "outputs": [
    {
     "data": {
      "text/html": [
       "<div>\n",
       "<style scoped>\n",
       "    .dataframe tbody tr th:only-of-type {\n",
       "        vertical-align: middle;\n",
       "    }\n",
       "\n",
       "    .dataframe tbody tr th {\n",
       "        vertical-align: top;\n",
       "    }\n",
       "\n",
       "    .dataframe thead th {\n",
       "        text-align: right;\n",
       "    }\n",
       "</style>\n",
       "<table border=\"1\" class=\"dataframe\">\n",
       "  <thead>\n",
       "    <tr style=\"text-align: right;\">\n",
       "      <th></th>\n",
       "      <th>Date</th>\n",
       "      <th>Open</th>\n",
       "      <th>High</th>\n",
       "      <th>Low</th>\n",
       "      <th>Close</th>\n",
       "      <th>Volume</th>\n",
       "      <th>Dividends</th>\n",
       "      <th>Stock Splits</th>\n",
       "    </tr>\n",
       "  </thead>\n",
       "  <tbody>\n",
       "  </tbody>\n",
       "</table>\n",
       "</div>"
      ],
      "text/plain": [
       "Empty DataFrame\n",
       "Columns: [Date, Open, High, Low, Close, Volume, Dividends, Stock Splits]\n",
       "Index: []"
      ]
     },
     "execution_count": 30,
     "metadata": {},
     "output_type": "execute_result"
    }
   ],
   "source": [
    "rl[(rl['High'] == rl['Low'])]"
   ]
  },
  {
   "cell_type": "code",
   "execution_count": 31,
   "id": "bd2631e7-ecd5-42cf-9865-4a6b703c1374",
   "metadata": {},
   "outputs": [
    {
     "data": {
      "text/html": [
       "<div>\n",
       "<style scoped>\n",
       "    .dataframe tbody tr th:only-of-type {\n",
       "        vertical-align: middle;\n",
       "    }\n",
       "\n",
       "    .dataframe tbody tr th {\n",
       "        vertical-align: top;\n",
       "    }\n",
       "\n",
       "    .dataframe thead th {\n",
       "        text-align: right;\n",
       "    }\n",
       "</style>\n",
       "<table border=\"1\" class=\"dataframe\">\n",
       "  <thead>\n",
       "    <tr style=\"text-align: right;\">\n",
       "      <th></th>\n",
       "      <th>Date</th>\n",
       "      <th>Open</th>\n",
       "      <th>High</th>\n",
       "      <th>Low</th>\n",
       "      <th>Close</th>\n",
       "      <th>Volume</th>\n",
       "      <th>Dividends</th>\n",
       "      <th>Stock Splits</th>\n",
       "    </tr>\n",
       "  </thead>\n",
       "  <tbody>\n",
       "  </tbody>\n",
       "</table>\n",
       "</div>"
      ],
      "text/plain": [
       "Empty DataFrame\n",
       "Columns: [Date, Open, High, Low, Close, Volume, Dividends, Stock Splits]\n",
       "Index: []"
      ]
     },
     "execution_count": 31,
     "metadata": {},
     "output_type": "execute_result"
    }
   ],
   "source": [
    "syy[(syy['High'] == syy['Low'])]"
   ]
  },
  {
   "cell_type": "code",
   "execution_count": 32,
   "id": "148d5111-6af3-42cc-9072-6cd624672513",
   "metadata": {},
   "outputs": [
    {
     "data": {
      "text/html": [
       "<div>\n",
       "<style scoped>\n",
       "    .dataframe tbody tr th:only-of-type {\n",
       "        vertical-align: middle;\n",
       "    }\n",
       "\n",
       "    .dataframe tbody tr th {\n",
       "        vertical-align: top;\n",
       "    }\n",
       "\n",
       "    .dataframe thead th {\n",
       "        text-align: right;\n",
       "    }\n",
       "</style>\n",
       "<table border=\"1\" class=\"dataframe\">\n",
       "  <thead>\n",
       "    <tr style=\"text-align: right;\">\n",
       "      <th></th>\n",
       "      <th>Date</th>\n",
       "      <th>Open</th>\n",
       "      <th>High</th>\n",
       "      <th>Low</th>\n",
       "      <th>Close</th>\n",
       "      <th>Volume</th>\n",
       "      <th>Dividends</th>\n",
       "      <th>Stock Splits</th>\n",
       "    </tr>\n",
       "  </thead>\n",
       "  <tbody>\n",
       "  </tbody>\n",
       "</table>\n",
       "</div>"
      ],
      "text/plain": [
       "Empty DataFrame\n",
       "Columns: [Date, Open, High, Low, Close, Volume, Dividends, Stock Splits]\n",
       "Index: []"
      ]
     },
     "execution_count": 32,
     "metadata": {},
     "output_type": "execute_result"
    }
   ],
   "source": [
    "bxp[(bxp['High'] == bxp['Low'])]"
   ]
  },
  {
   "cell_type": "markdown",
   "id": "abe2bcdc-a74d-4d67-937a-28a3464ed26c",
   "metadata": {},
   "source": [
    "No there is no company with no difference in High and low values. As such, all Companies are traded."
   ]
  },
  {
   "cell_type": "code",
   "execution_count": 37,
   "id": "48fe3640-6537-4038-9628-70f0e738f0f7",
   "metadata": {},
   "outputs": [
    {
     "name": "stdout",
     "output_type": "stream",
     "text": [
      "703.152\n",
      "108.568\n"
     ]
    }
   ],
   "source": [
    "print(intu[\"High\"].max())\n",
    "print(intu[\"High\"].min())"
   ]
  },
  {
   "cell_type": "code",
   "execution_count": 38,
   "id": "89d2585c-d3f7-4dda-b3cd-cf749963f830",
   "metadata": {},
   "outputs": [
    {
     "name": "stdout",
     "output_type": "stream",
     "text": [
      "130.467\n",
      "57.105\n"
     ]
    }
   ],
   "source": [
    "print(rl[\"High\"].max())\n",
    "print(rl[\"High\"].min())"
   ]
  },
  {
   "cell_type": "code",
   "execution_count": 39,
   "id": "dfabd0ba-8fa5-4a5b-8124-3fd4937618d5",
   "metadata": {},
   "outputs": [
    {
     "name": "stdout",
     "output_type": "stream",
     "text": [
      "85.643\n",
      "29.585\n"
     ]
    }
   ],
   "source": [
    "print(syy[\"High\"].max())\n",
    "print(syy[\"High\"].min())"
   ]
  },
  {
   "cell_type": "code",
   "execution_count": 40,
   "id": "ceb0cc53-6d68-4dd1-9056-fd50f3a11ad4",
   "metadata": {},
   "outputs": [
    {
     "name": "stdout",
     "output_type": "stream",
     "text": [
      "116.688\n",
      "58.232\n"
     ]
    }
   ],
   "source": [
    "print(bxp[\"High\"].max())\n",
    "print(bxp[\"High\"].min())"
   ]
  },
  {
   "cell_type": "code",
   "execution_count": 51,
   "id": "93f2e161-393b-431e-a964-2d9569f21738",
   "metadata": {},
   "outputs": [
    {
     "data": {
      "text/plain": [
       "count    1510.000000\n",
       "mean        5.581012\n",
       "std         0.473466\n",
       "min         4.682594\n",
       "25%         5.262180\n",
       "50%         5.566648\n",
       "75%         5.967763\n",
       "max         6.524116\n",
       "Name: log_return, dtype: float64"
      ]
     },
     "execution_count": 51,
     "metadata": {},
     "output_type": "execute_result"
    }
   ],
   "source": [
    "intu[\"log_return\"] = np.log(intu[\"Close\"])\n",
    "intu.head()\n",
    "intu[\"log_return\"].describe()"
   ]
  },
  {
   "cell_type": "code",
   "execution_count": 52,
   "id": "fd444782-998d-40ea-ad9c-eaa158032fb5",
   "metadata": {},
   "outputs": [],
   "source": [
    "from scipy.stats import skew "
   ]
  },
  {
   "cell_type": "code",
   "execution_count": 54,
   "id": "4bbdc039-4811-4ce2-b73e-ac992059df40",
   "metadata": {},
   "outputs": [
    {
     "name": "stdout",
     "output_type": "stream",
     "text": [
      "skewness -0.11226649113539534\n"
     ]
    }
   ],
   "source": [
    "print(\"skewness\",skew(intu[\"log_return\"], axis=0, bias=True))"
   ]
  },
  {
   "cell_type": "code",
   "execution_count": 60,
   "id": "ed5fc9a5-a17d-493d-aa9d-27522ebbc0df",
   "metadata": {},
   "outputs": [
    {
     "name": "stdout",
     "output_type": "stream",
     "text": [
      "count    1510.000000\n",
      "mean        4.514391\n",
      "std         0.205272\n",
      "min         4.025744\n",
      "25%         4.347483\n",
      "50%         4.560847\n",
      "75%         4.689635\n",
      "max         4.853935\n",
      "Name: log_return, dtype: float64\n",
      "skewness -0.548152597121892\n"
     ]
    }
   ],
   "source": [
    "rl[\"log_return\"] = np.log(rl[\"Close\"])\n",
    "print(rl[\"log_return\"].describe())\n",
    "print(\"skewness\",skew(rl[\"log_return\"], axis=0, bias=True))"
   ]
  },
  {
   "cell_type": "code",
   "execution_count": 59,
   "id": "1a7701d8-18d9-416d-ba04-c7d32c6f6abc",
   "metadata": {},
   "outputs": [
    {
     "name": "stdout",
     "output_type": "stream",
     "text": [
      "count    1510.000000\n",
      "mean        4.095206\n",
      "std         0.206896\n",
      "min         3.313859\n",
      "25%         3.929460\n",
      "50%         4.122948\n",
      "75%         4.277811\n",
      "max         4.430448\n",
      "Name: log_return, dtype: float64\n",
      "skewness -0.40477644386124334\n"
     ]
    }
   ],
   "source": [
    "syy[\"log_return\"] = np.log(syy[\"Close\"])\n",
    "print(syy[\"log_return\"].describe())\n",
    "print(\"skewness\",skew(syy[\"log_return\"], axis=0, bias=True))"
   ]
  },
  {
   "cell_type": "code",
   "execution_count": 58,
   "id": "7fb955d9-6ae0-4b50-95dc-37068158f268",
   "metadata": {},
   "outputs": [
    {
     "name": "stdout",
     "output_type": "stream",
     "text": [
      "count    1510.000000\n",
      "mean        4.492911\n",
      "std         0.153130\n",
      "min         4.048423\n",
      "25%         4.426818\n",
      "50%         4.530576\n",
      "75%         4.601112\n",
      "max         4.757342\n",
      "Name: log_return, dtype: float64\n",
      "skewness -0.9577734144920472\n"
     ]
    }
   ],
   "source": [
    "bxp[\"log_return\"] = np.log(bxp[\"Close\"])\n",
    "print(bxp[\"log_return\"].describe())\n",
    "print(\"skewness\",skew(bxp[\"log_return\"], axis=0, bias=True))"
   ]
  },
  {
   "cell_type": "code",
   "execution_count": null,
   "id": "c0db0733-c948-40a8-85ea-95550697b826",
   "metadata": {},
   "outputs": [],
   "source": [
    "#task 4 secound hightes gain\n"
   ]
  },
  {
   "cell_type": "code",
   "execution_count": 73,
   "id": "1ab7ac52-af29-4d6a-bc95-89646ba73188",
   "metadata": {},
   "outputs": [
    {
     "data": {
      "text/html": [
       "<div>\n",
       "<style scoped>\n",
       "    .dataframe tbody tr th:only-of-type {\n",
       "        vertical-align: middle;\n",
       "    }\n",
       "\n",
       "    .dataframe tbody tr th {\n",
       "        vertical-align: top;\n",
       "    }\n",
       "\n",
       "    .dataframe thead th {\n",
       "        text-align: right;\n",
       "    }\n",
       "</style>\n",
       "<table border=\"1\" class=\"dataframe\">\n",
       "  <thead>\n",
       "    <tr style=\"text-align: right;\">\n",
       "      <th></th>\n",
       "      <th>Date</th>\n",
       "      <th>Open</th>\n",
       "      <th>High</th>\n",
       "      <th>Low</th>\n",
       "      <th>Close</th>\n",
       "      <th>Volume</th>\n",
       "      <th>Dividends</th>\n",
       "      <th>Stock Splits</th>\n",
       "      <th>log_return</th>\n",
       "    </tr>\n",
       "  </thead>\n",
       "  <tbody>\n",
       "  </tbody>\n",
       "</table>\n",
       "</div>"
      ],
      "text/plain": [
       "Empty DataFrame\n",
       "Columns: [Date, Open, High, Low, Close, Volume, Dividends, Stock Splits, log_return]\n",
       "Index: []"
      ]
     },
     "execution_count": 73,
     "metadata": {},
     "output_type": "execute_result"
    }
   ],
   "source": [
    "intu[intu[\"log_return\"] == intu[\"log_return\"].idxmax()]\n",
    "#intu[(intu[\"log_return\"].idx() ==]"
   ]
  },
  {
   "cell_type": "code",
   "execution_count": 74,
   "id": "14e225ff-927b-4183-b8a2-13e39051cc71",
   "metadata": {},
   "outputs": [
    {
     "data": {
      "text/plain": [
       "5.581011758031468"
      ]
     },
     "execution_count": 74,
     "metadata": {},
     "output_type": "execute_result"
    }
   ],
   "source": [
    "intu[\"log_return\"].mean()"
   ]
  },
  {
   "cell_type": "code",
   "execution_count": 77,
   "id": "1590ef98-b58e-46a7-aec4-73289488af6c",
   "metadata": {},
   "outputs": [
    {
     "data": {
      "text/plain": [
       "0    4.343987\n",
       "1    4.343870\n",
       "2    4.326395\n",
       "3    4.321108\n",
       "4    4.305969\n",
       "Name: log_return, dtype: float64"
      ]
     },
     "execution_count": 77,
     "metadata": {},
     "output_type": "execute_result"
    }
   ],
   "source": [
    "#8\n",
    "rl[\"log_return\"].head()"
   ]
  },
  {
   "cell_type": "code",
   "execution_count": 76,
   "id": "8caaa8b5-614d-4b8c-bbbd-4437beb965e3",
   "metadata": {},
   "outputs": [
    {
     "data": {
      "image/png": "[encoded data removed]",
      "text/plain": [
       "<Figure size 800x400 with 1 Axes>"
      ]
     },
     "metadata": {},
     "output_type": "display_data"
    }
   ],
   "source": [
    "#8 Plot\n",
    "\n",
    "\n",
    "\n",
    "plt.figure(figsize=(8,4))\n",
    "plt.plot(intu[\"log_return\"], label='intu',  linewidth=1.0)\n",
    "plt.plot(rl[\"log_return\"], label='rl')\n",
    "plt.plot(syy[\"log_return\"],'k^:',label='syy') #dreiecke\n",
    "plt.plot(bxp[\"log_return\"],'.',label='bxp')\n",
    "\n",
    "#labeling\n",
    "plt.xlabel('Time')\n",
    "plt.ylabel('log_returns')\n",
    "plt.title(\"Basic plots\")\n",
    "\n",
    "#Legende\n",
    "plt.legend(loc = 'best');"
   ]
  },
  {
   "cell_type": "code",
   "execution_count": 82,
   "id": "040c0ba6-0cc2-47b2-888e-b4fa7c9007ae",
   "metadata": {},
   "outputs": [
    {
     "data": {
      "text/plain": [
       "<seaborn.axisgrid.FacetGrid at 0x7fb4186db4d0>"
      ]
     },
     "execution_count": 82,
     "metadata": {},
     "output_type": "execute_result"
    },
    {
     "data": {
      "image/png": "[encoded data removed]",
      "text/plain": [
       "<Figure size 500x500 with 1 Axes>"
      ]
     },
     "metadata": {},
     "output_type": "display_data"
    },
    {
     "data": {
      "image/png": "[encoded data removed]",
      "text/plain": [
       "<Figure size 500x500 with 1 Axes>"
      ]
     },
     "metadata": {},
     "output_type": "display_data"
    },
    {
     "data": {
      "image/png": "[encoded data removed]",
      "text/plain": [
       "<Figure size 500x500 with 1 Axes>"
      ]
     },
     "metadata": {},
     "output_type": "display_data"
    },
    {
     "data": {
      "image/png": "[encoded data removed]",
      "text/plain": [
       "<Figure size 500x500 with 1 Axes>"
      ]
     },
     "metadata": {},
     "output_type": "display_data"
    }
   ],
   "source": [
    "#B\n",
    "sns.displot(intu[\"log_return\"])\n",
    "sns.displot(rl[\"log_return\"])\n",
    "sns.displot(syy[\"log_return\"])\n",
    "sns.displot(bxp[\"log_return\"])\n",
    "\n"
   ]
  },
  {
   "cell_type": "code",
   "execution_count": null,
   "id": "c7a66000-1237-4530-b01f-ceda10272991",
   "metadata": {},
   "outputs": [],
   "source": [
    "#Part 2"
   ]
  },
  {
   "cell_type": "code",
   "execution_count": 110,
   "id": "ae6a7bda-1d09-4c2e-9585-645b2c1d5edf",
   "metadata": {},
   "outputs": [],
   "source": [
    "url = \"https://ies-fsv.s3.eu-central-1.amazonaws.com/companies/companies_no_subindustry.csv\"\n",
    "resp = urlopen(url)\n",
    "df = pd.read_csv(BytesIO(resp.read()))\n"
   ]
  },
  {
   "cell_type": "code",
   "execution_count": 111,
   "id": "5882baeb-5243-423a-981d-bcbef44a83dd",
   "metadata": {},
   "outputs": [
    {
     "data": {
      "text/html": [
       "<div>\n",
       "<style scoped>\n",
       "    .dataframe tbody tr th:only-of-type {\n",
       "        vertical-align: middle;\n",
       "    }\n",
       "\n",
       "    .dataframe tbody tr th {\n",
       "        vertical-align: top;\n",
       "    }\n",
       "\n",
       "    .dataframe thead th {\n",
       "        text-align: right;\n",
       "    }\n",
       "</style>\n",
       "<table border=\"1\" class=\"dataframe\">\n",
       "  <thead>\n",
       "    <tr style=\"text-align: right;\">\n",
       "      <th></th>\n",
       "      <th>Symbol</th>\n",
       "      <th>Security</th>\n",
       "      <th>GICS_Sector</th>\n",
       "      <th>hq</th>\n",
       "      <th>included</th>\n",
       "      <th>Founded</th>\n",
       "    </tr>\n",
       "  </thead>\n",
       "  <tbody>\n",
       "    <tr>\n",
       "      <th>0</th>\n",
       "      <td>MMM</td>\n",
       "      <td>3M</td>\n",
       "      <td>Industrials</td>\n",
       "      <td>Saint Paul, Minnesota</td>\n",
       "      <td>09.08.1976</td>\n",
       "      <td>1902</td>\n",
       "    </tr>\n",
       "    <tr>\n",
       "      <th>1</th>\n",
       "      <td>AOS</td>\n",
       "      <td>A. O. Smith</td>\n",
       "      <td>Industrials</td>\n",
       "      <td>Milwaukee, Wisconsin</td>\n",
       "      <td>26.07.2017</td>\n",
       "      <td>1916</td>\n",
       "    </tr>\n",
       "    <tr>\n",
       "      <th>2</th>\n",
       "      <td>ABT</td>\n",
       "      <td>Abbott</td>\n",
       "      <td>Health Care</td>\n",
       "      <td>North Chicago, Illinois</td>\n",
       "      <td>31.03.1964</td>\n",
       "      <td>1888</td>\n",
       "    </tr>\n",
       "    <tr>\n",
       "      <th>3</th>\n",
       "      <td>ABBV</td>\n",
       "      <td>AbbVie</td>\n",
       "      <td>Health Care</td>\n",
       "      <td>North Chicago, Illinois</td>\n",
       "      <td>31.12.2012</td>\n",
       "      <td>2013 (1888)</td>\n",
       "    </tr>\n",
       "    <tr>\n",
       "      <th>4</th>\n",
       "      <td>ABMD</td>\n",
       "      <td>Abiomed</td>\n",
       "      <td>Health Care</td>\n",
       "      <td>Danvers, Massachusetts</td>\n",
       "      <td>31.05.2018</td>\n",
       "      <td>1981</td>\n",
       "    </tr>\n",
       "  </tbody>\n",
       "</table>\n",
       "</div>"
      ],
      "text/plain": [
       "  Symbol     Security  GICS_Sector                       hq    included  \\\n",
       "0    MMM           3M  Industrials    Saint Paul, Minnesota  09.08.1976   \n",
       "1    AOS  A. O. Smith  Industrials     Milwaukee, Wisconsin  26.07.2017   \n",
       "2    ABT       Abbott  Health Care  North Chicago, Illinois  31.03.1964   \n",
       "3   ABBV       AbbVie  Health Care  North Chicago, Illinois  31.12.2012   \n",
       "4   ABMD      Abiomed  Health Care   Danvers, Massachusetts  31.05.2018   \n",
       "\n",
       "       Founded  \n",
       "0         1902  \n",
       "1         1916  \n",
       "2         1888  \n",
       "3  2013 (1888)  \n",
       "4         1981  "
      ]
     },
     "execution_count": 111,
     "metadata": {},
     "output_type": "execute_result"
    }
   ],
   "source": [
    "df.head()"
   ]
  },
  {
   "cell_type": "code",
   "execution_count": 112,
   "id": "33f0069c-c70e-4b3e-ac8f-ffed5bc4f679",
   "metadata": {},
   "outputs": [
    {
     "name": "stdout",
     "output_type": "stream",
     "text": [
      "45 companies didn't fill in the date of inclusion\n"
     ]
    }
   ],
   "source": [
    "\n",
    "\n",
    "notfilledin = df[\"included\"].isnull().sum()\n",
    "print(f\"{notfilledin} companies didn't fill in the date of inclusion\")\n",
    "df = df[~(df['included'].isnull())]"
   ]
  },
  {
   "cell_type": "code",
   "execution_count": 100,
   "id": "20c1ef65-c1ae-4245-a241-9a085ba5b158",
   "metadata": {},
   "outputs": [
    {
     "name": "stdout",
     "output_type": "stream",
     "text": [
      "    Symbol                Security             GICS_Sector  \\\n",
      "481    WBD  Warner Bros. Discovery  Communication Services   \n",
      "\n",
      "                          hq    included Founded  \n",
      "481  New York City, New York  11.04.2022    2022  \n",
      "   Symbol    Security GICS_Sector                       hq    included Founded\n",
      "71     BK  BNY Mellon  Financials  New York City, New York  31.03.1995    1784\n"
     ]
    }
   ],
   "source": [
    "#youngest\n",
    "\n",
    "print(df[df.Founded == df.Founded.max()])\n"
   ]
  },
  {
   "cell_type": "code",
   "execution_count": 101,
   "id": "1cc4ef25-ee01-4ee4-b681-d2ff4dd7ca43",
   "metadata": {},
   "outputs": [
    {
     "name": "stdout",
     "output_type": "stream",
     "text": [
      "   Symbol    Security GICS_Sector                       hq    included Founded\n",
      "71     BK  BNY Mellon  Financials  New York City, New York  31.03.1995    1784\n"
     ]
    }
   ],
   "source": [
    "#oldest\n",
    "print(df[df.Founded == df.Founded.min()])"
   ]
  },
  {
   "cell_type": "code",
   "execution_count": 108,
   "id": "78ae2ad6-13dc-4b6a-b839-c4d4fd9e7df1",
   "metadata": {},
   "outputs": [
    {
     "name": "stdout",
     "output_type": "stream",
     "text": [
      "the oldest company's symbol is BK\n",
      "the oldest company's symbol is BK\n",
      "the average age of companies is 67.76 years\n"
     ]
    }
   ],
   "source": [
    "import datetime\n",
    "data = df.dropna(subset=\"included\")\n",
    "today = datetime.datetime.today()\n",
    "year = today.year\n",
    "oldest = data.loc[data[\"Founded\"] == data[\"Founded\"].min(), \"Symbol\"]\n",
    "youngest = data.loc[data[\"Founded\"] == data[\"Founded\"].min(), \"Symbol\"]\n",
    "print(f\"the oldest company's symbol is {oldest[oldest.index[0]]}\")\n",
    "print(f\"the oldest company's symbol is {youngest[youngest.index[0]]}\")\n",
    "data[\"f\"] = data[\"Founded\"].apply(lambda x: x.split()[0])\n",
    "data[\"founded\"] = data[\"f\"].apply(lambda x: x.split(\"/\")[0])\n",
    "data[\"founded\"] = data[\"founded\"].apply(lambda x: int(x))\n",
    "data[\"age\"] = year - data[\"founded\"]\n",
    "print(f\"the average age of companies is {round(data['age'].mean(),2)} years\")"
   ]
  },
  {
   "cell_type": "code",
   "execution_count": 105,
   "id": "967b4b35-20ca-4064-bb96-3dd76351b72d",
   "metadata": {},
   "outputs": [
    {
     "data": {
      "text/html": [
       "<div>\n",
       "<style scoped>\n",
       "    .dataframe tbody tr th:only-of-type {\n",
       "        vertical-align: middle;\n",
       "    }\n",
       "\n",
       "    .dataframe tbody tr th {\n",
       "        vertical-align: top;\n",
       "    }\n",
       "\n",
       "    .dataframe thead tr th {\n",
       "        text-align: left;\n",
       "    }\n",
       "\n",
       "    .dataframe thead tr:last-of-type th {\n",
       "        text-align: right;\n",
       "    }\n",
       "</style>\n",
       "<table border=\"1\" class=\"dataframe\">\n",
       "  <thead>\n",
       "    <tr>\n",
       "      <th></th>\n",
       "      <th colspan=\"4\" halign=\"left\">Symbol</th>\n",
       "      <th colspan=\"4\" halign=\"left\">Security</th>\n",
       "      <th colspan=\"4\" halign=\"left\">hq</th>\n",
       "      <th colspan=\"4\" halign=\"left\">included</th>\n",
       "      <th colspan=\"4\" halign=\"left\">Founded</th>\n",
       "    </tr>\n",
       "    <tr>\n",
       "      <th></th>\n",
       "      <th>count</th>\n",
       "      <th>unique</th>\n",
       "      <th>top</th>\n",
       "      <th>freq</th>\n",
       "      <th>count</th>\n",
       "      <th>unique</th>\n",
       "      <th>top</th>\n",
       "      <th>freq</th>\n",
       "      <th>count</th>\n",
       "      <th>unique</th>\n",
       "      <th>top</th>\n",
       "      <th>freq</th>\n",
       "      <th>count</th>\n",
       "      <th>unique</th>\n",
       "      <th>top</th>\n",
       "      <th>freq</th>\n",
       "      <th>count</th>\n",
       "      <th>unique</th>\n",
       "      <th>top</th>\n",
       "      <th>freq</th>\n",
       "    </tr>\n",
       "    <tr>\n",
       "      <th>GICS_Sector</th>\n",
       "      <th></th>\n",
       "      <th></th>\n",
       "      <th></th>\n",
       "      <th></th>\n",
       "      <th></th>\n",
       "      <th></th>\n",
       "      <th></th>\n",
       "      <th></th>\n",
       "      <th></th>\n",
       "      <th></th>\n",
       "      <th></th>\n",
       "      <th></th>\n",
       "      <th></th>\n",
       "      <th></th>\n",
       "      <th></th>\n",
       "      <th></th>\n",
       "      <th></th>\n",
       "      <th></th>\n",
       "      <th></th>\n",
       "      <th></th>\n",
       "    </tr>\n",
       "  </thead>\n",
       "  <tbody>\n",
       "    <tr>\n",
       "      <th>Communication Services</th>\n",
       "      <td>23</td>\n",
       "      <td>23</td>\n",
       "      <td>ATVI</td>\n",
       "      <td>1</td>\n",
       "      <td>23</td>\n",
       "      <td>23</td>\n",
       "      <td>Activision Blizzard</td>\n",
       "      <td>1</td>\n",
       "      <td>23</td>\n",
       "      <td>14</td>\n",
       "      <td>New York City, New York</td>\n",
       "      <td>8</td>\n",
       "      <td>23</td>\n",
       "      <td>22</td>\n",
       "      <td>18.09.2015</td>\n",
       "      <td>2</td>\n",
       "      <td>23</td>\n",
       "      <td>18</td>\n",
       "      <td>1983 (1877)</td>\n",
       "      <td>2</td>\n",
       "    </tr>\n",
       "    <tr>\n",
       "      <th>Consumer Discretionary</th>\n",
       "      <td>52</td>\n",
       "      <td>52</td>\n",
       "      <td>AAP</td>\n",
       "      <td>1</td>\n",
       "      <td>52</td>\n",
       "      <td>52</td>\n",
       "      <td>Advance Auto Parts</td>\n",
       "      <td>1</td>\n",
       "      <td>52</td>\n",
       "      <td>41</td>\n",
       "      <td>Atlanta, Georgia</td>\n",
       "      <td>4</td>\n",
       "      <td>52</td>\n",
       "      <td>51</td>\n",
       "      <td>19.12.2011</td>\n",
       "      <td>2</td>\n",
       "      <td>52</td>\n",
       "      <td>44</td>\n",
       "      <td>1993</td>\n",
       "      <td>3</td>\n",
       "    </tr>\n",
       "    <tr>\n",
       "      <th>Consumer Staples</th>\n",
       "      <td>33</td>\n",
       "      <td>33</td>\n",
       "      <td>ADM</td>\n",
       "      <td>1</td>\n",
       "      <td>33</td>\n",
       "      <td>33</td>\n",
       "      <td>ADM</td>\n",
       "      <td>1</td>\n",
       "      <td>33</td>\n",
       "      <td>27</td>\n",
       "      <td>Chicago, Illinois</td>\n",
       "      <td>4</td>\n",
       "      <td>33</td>\n",
       "      <td>24</td>\n",
       "      <td>04.03.1957</td>\n",
       "      <td>9</td>\n",
       "      <td>33</td>\n",
       "      <td>33</td>\n",
       "      <td>1902</td>\n",
       "      <td>1</td>\n",
       "    </tr>\n",
       "    <tr>\n",
       "      <th>Energy</th>\n",
       "      <td>22</td>\n",
       "      <td>22</td>\n",
       "      <td>APA</td>\n",
       "      <td>1</td>\n",
       "      <td>22</td>\n",
       "      <td>22</td>\n",
       "      <td>APA Corporation</td>\n",
       "      <td>1</td>\n",
       "      <td>22</td>\n",
       "      <td>10</td>\n",
       "      <td>Houston, Texas</td>\n",
       "      <td>11</td>\n",
       "      <td>22</td>\n",
       "      <td>19</td>\n",
       "      <td>04.03.1957</td>\n",
       "      <td>4</td>\n",
       "      <td>22</td>\n",
       "      <td>19</td>\n",
       "      <td>1919</td>\n",
       "      <td>2</td>\n",
       "    </tr>\n",
       "    <tr>\n",
       "      <th>Financials</th>\n",
       "      <td>55</td>\n",
       "      <td>55</td>\n",
       "      <td>AFL</td>\n",
       "      <td>1</td>\n",
       "      <td>55</td>\n",
       "      <td>55</td>\n",
       "      <td>Aflac</td>\n",
       "      <td>1</td>\n",
       "      <td>55</td>\n",
       "      <td>37</td>\n",
       "      <td>New York City, New York</td>\n",
       "      <td>14</td>\n",
       "      <td>55</td>\n",
       "      <td>49</td>\n",
       "      <td>30.06.1976</td>\n",
       "      <td>4</td>\n",
       "      <td>55</td>\n",
       "      <td>48</td>\n",
       "      <td>1985</td>\n",
       "      <td>3</td>\n",
       "    </tr>\n",
       "    <tr>\n",
       "      <th>Health Care</th>\n",
       "      <td>60</td>\n",
       "      <td>60</td>\n",
       "      <td>ABT</td>\n",
       "      <td>1</td>\n",
       "      <td>60</td>\n",
       "      <td>60</td>\n",
       "      <td>Abbott</td>\n",
       "      <td>1</td>\n",
       "      <td>60</td>\n",
       "      <td>50</td>\n",
       "      <td>San Diego, California</td>\n",
       "      <td>3</td>\n",
       "      <td>60</td>\n",
       "      <td>55</td>\n",
       "      <td>04.03.1957</td>\n",
       "      <td>4</td>\n",
       "      <td>60</td>\n",
       "      <td>48</td>\n",
       "      <td>1985</td>\n",
       "      <td>3</td>\n",
       "    </tr>\n",
       "    <tr>\n",
       "      <th>Industrials</th>\n",
       "      <td>66</td>\n",
       "      <td>66</td>\n",
       "      <td>MMM</td>\n",
       "      <td>1</td>\n",
       "      <td>66</td>\n",
       "      <td>66</td>\n",
       "      <td>3M</td>\n",
       "      <td>1</td>\n",
       "      <td>66</td>\n",
       "      <td>58</td>\n",
       "      <td>Atlanta, Georgia</td>\n",
       "      <td>3</td>\n",
       "      <td>66</td>\n",
       "      <td>54</td>\n",
       "      <td>04.03.1957</td>\n",
       "      <td>6</td>\n",
       "      <td>66</td>\n",
       "      <td>53</td>\n",
       "      <td>1929</td>\n",
       "      <td>3</td>\n",
       "    </tr>\n",
       "    <tr>\n",
       "      <th>Information Technology</th>\n",
       "      <td>68</td>\n",
       "      <td>68</td>\n",
       "      <td>ACN</td>\n",
       "      <td>1</td>\n",
       "      <td>68</td>\n",
       "      <td>68</td>\n",
       "      <td>Accenture</td>\n",
       "      <td>1</td>\n",
       "      <td>68</td>\n",
       "      <td>50</td>\n",
       "      <td>San Jose, California</td>\n",
       "      <td>7</td>\n",
       "      <td>68</td>\n",
       "      <td>67</td>\n",
       "      <td>22.06.2020</td>\n",
       "      <td>2</td>\n",
       "      <td>68</td>\n",
       "      <td>46</td>\n",
       "      <td>1998</td>\n",
       "      <td>3</td>\n",
       "    </tr>\n",
       "    <tr>\n",
       "      <th>Materials</th>\n",
       "      <td>26</td>\n",
       "      <td>26</td>\n",
       "      <td>APD</td>\n",
       "      <td>1</td>\n",
       "      <td>26</td>\n",
       "      <td>26</td>\n",
       "      <td>Air Products and Chemicals</td>\n",
       "      <td>1</td>\n",
       "      <td>26</td>\n",
       "      <td>24</td>\n",
       "      <td>Charlotte, North Carolina</td>\n",
       "      <td>3</td>\n",
       "      <td>26</td>\n",
       "      <td>23</td>\n",
       "      <td>04.03.1957</td>\n",
       "      <td>3</td>\n",
       "      <td>26</td>\n",
       "      <td>23</td>\n",
       "      <td>1940</td>\n",
       "      <td>2</td>\n",
       "    </tr>\n",
       "    <tr>\n",
       "      <th>Real Estate</th>\n",
       "      <td>30</td>\n",
       "      <td>30</td>\n",
       "      <td>ARE</td>\n",
       "      <td>1</td>\n",
       "      <td>30</td>\n",
       "      <td>30</td>\n",
       "      <td>Alexandria Real Estate Equities</td>\n",
       "      <td>1</td>\n",
       "      <td>30</td>\n",
       "      <td>24</td>\n",
       "      <td>Boston, Massachusetts</td>\n",
       "      <td>3</td>\n",
       "      <td>30</td>\n",
       "      <td>30</td>\n",
       "      <td>20.03.2017</td>\n",
       "      <td>1</td>\n",
       "      <td>30</td>\n",
       "      <td>24</td>\n",
       "      <td>1994</td>\n",
       "      <td>2</td>\n",
       "    </tr>\n",
       "    <tr>\n",
       "      <th>Utilities</th>\n",
       "      <td>23</td>\n",
       "      <td>23</td>\n",
       "      <td>AES</td>\n",
       "      <td>1</td>\n",
       "      <td>23</td>\n",
       "      <td>23</td>\n",
       "      <td>AES Corporation</td>\n",
       "      <td>1</td>\n",
       "      <td>23</td>\n",
       "      <td>22</td>\n",
       "      <td>Houston, Texas</td>\n",
       "      <td>2</td>\n",
       "      <td>23</td>\n",
       "      <td>15</td>\n",
       "      <td>04.03.1957</td>\n",
       "      <td>8</td>\n",
       "      <td>23</td>\n",
       "      <td>19</td>\n",
       "      <td>1886</td>\n",
       "      <td>3</td>\n",
       "    </tr>\n",
       "  </tbody>\n",
       "</table>\n",
       "</div>"
      ],
      "text/plain": [
       "                       Symbol                   Security         \\\n",
       "                        count unique   top freq    count unique   \n",
       "GICS_Sector                                                       \n",
       "Communication Services     23     23  ATVI    1       23     23   \n",
       "Consumer Discretionary     52     52   AAP    1       52     52   \n",
       "Consumer Staples           33     33   ADM    1       33     33   \n",
       "Energy                     22     22   APA    1       22     22   \n",
       "Financials                 55     55   AFL    1       55     55   \n",
       "Health Care                60     60   ABT    1       60     60   \n",
       "Industrials                66     66   MMM    1       66     66   \n",
       "Information Technology     68     68   ACN    1       68     68   \n",
       "Materials                  26     26   APD    1       26     26   \n",
       "Real Estate                30     30   ARE    1       30     30   \n",
       "Utilities                  23     23   AES    1       23     23   \n",
       "\n",
       "                                                                hq         \\\n",
       "                                                    top freq count unique   \n",
       "GICS_Sector                                                                 \n",
       "Communication Services              Activision Blizzard    1    23     14   \n",
       "Consumer Discretionary               Advance Auto Parts    1    52     41   \n",
       "Consumer Staples                                    ADM    1    33     27   \n",
       "Energy                                  APA Corporation    1    22     10   \n",
       "Financials                                        Aflac    1    55     37   \n",
       "Health Care                                      Abbott    1    60     50   \n",
       "Industrials                                          3M    1    66     58   \n",
       "Information Technology                        Accenture    1    68     50   \n",
       "Materials                    Air Products and Chemicals    1    26     24   \n",
       "Real Estate             Alexandria Real Estate Equities    1    30     24   \n",
       "Utilities                               AES Corporation    1    23     22   \n",
       "\n",
       "                                                       included         \\\n",
       "                                              top freq    count unique   \n",
       "GICS_Sector                                                              \n",
       "Communication Services    New York City, New York    8       23     22   \n",
       "Consumer Discretionary           Atlanta, Georgia    4       52     51   \n",
       "Consumer Staples                Chicago, Illinois    4       33     24   \n",
       "Energy                             Houston, Texas   11       22     19   \n",
       "Financials                New York City, New York   14       55     49   \n",
       "Health Care                 San Diego, California    3       60     55   \n",
       "Industrials                      Atlanta, Georgia    3       66     54   \n",
       "Information Technology       San Jose, California    7       68     67   \n",
       "Materials               Charlotte, North Carolina    3       26     23   \n",
       "Real Estate                 Boston, Massachusetts    3       30     30   \n",
       "Utilities                          Houston, Texas    2       23     15   \n",
       "\n",
       "                                        Founded                           \n",
       "                               top freq   count unique          top freq  \n",
       "GICS_Sector                                                               \n",
       "Communication Services  18.09.2015    2      23     18  1983 (1877)    2  \n",
       "Consumer Discretionary  19.12.2011    2      52     44         1993    3  \n",
       "Consumer Staples        04.03.1957    9      33     33         1902    1  \n",
       "Energy                  04.03.1957    4      22     19         1919    2  \n",
       "Financials              30.06.1976    4      55     48         1985    3  \n",
       "Health Care             04.03.1957    4      60     48         1985    3  \n",
       "Industrials             04.03.1957    6      66     53         1929    3  \n",
       "Information Technology  22.06.2020    2      68     46         1998    3  \n",
       "Materials               04.03.1957    3      26     23         1940    2  \n",
       "Real Estate             20.03.2017    1      30     24         1994    2  \n",
       "Utilities               04.03.1957    8      23     19         1886    3  "
      ]
     },
     "execution_count": 105,
     "metadata": {},
     "output_type": "execute_result"
    }
   ],
   "source": [
    "df.groupby(df[\"GICS_Sector\"]).describe()"
   ]
  },
  {
   "cell_type": "code",
   "execution_count": 106,
   "id": "66c213fb-4cc2-409a-b08e-92b55a9688bc",
   "metadata": {},
   "outputs": [
    {
     "data": {
      "text/plain": [
       "([<matplotlib.patches.Wedge at 0x7fb4126ae650>,\n",
       "  <matplotlib.patches.Wedge at 0x7fb412548710>,\n",
       "  <matplotlib.patches.Wedge at 0x7fb4125494d0>,\n",
       "  <matplotlib.patches.Wedge at 0x7fb41254a490>,\n",
       "  <matplotlib.patches.Wedge at 0x7fb41254b590>,\n",
       "  <matplotlib.patches.Wedge at 0x7fb412550710>,\n",
       "  <matplotlib.patches.Wedge at 0x7fb412551490>,\n",
       "  <matplotlib.patches.Wedge at 0x7fb4125523d0>,\n",
       "  <matplotlib.patches.Wedge at 0x7fb4125531d0>,\n",
       "  <matplotlib.patches.Wedge at 0x7fb4126d2fd0>,\n",
       "  <matplotlib.patches.Wedge at 0x7fb4127db6d0>],\n",
       " [Text(0.9824937293546878, 0.4946777453845257, 'Information Technology'),\n",
       "  Text(0.2025607676993733, 1.0811887602953707, 'Industrials'),\n",
       "  Text(-0.6908833028272607, 0.8559674420645308, 'Health Care'),\n",
       "  Text(-1.0941825695808445, 0.11298010632611698, 'Financials'),\n",
       "  Text(-0.8881413728612144, -0.6490030060116807, 'Consumer Discretionary'),\n",
       "  Text(-0.384089282558408, -1.0307644847508899, 'Consumer Staples'),\n",
       "  Text(0.08291962850581176, -1.0968702453838641, 'Real Estate'),\n",
       "  Text(0.4879268426565808, -0.985863781774734, 'Materials'),\n",
       "  Text(0.7857791165518135, -0.7697734601758179, 'Communication Services'),\n",
       "  Text(0.9858637303813442, -0.48792694649771123, 'Utilities'),\n",
       "  Text(1.0874987680638741, -0.16536755866721908, 'Energy')])"
      ]
     },
     "execution_count": 106,
     "metadata": {},
     "output_type": "execute_result"
    },
    {
     "data": {
      "image/png": "[encoded data removed]",
      "text/plain": [
       "<Figure size 640x480 with 1 Axes>"
      ]
     },
     "metadata": {},
     "output_type": "display_data"
    }
   ],
   "source": [
    "sector = df[\"GICS_Sector\"].value_counts().reset_index()\n",
    "plt.pie(sector[\"count\"], labels= sector[\"GICS_Sector\"])\n"
   ]
  },
  {
   "cell_type": "code",
   "execution_count": null,
   "id": "60d7ad89-a6de-4f07-824a-f5ae87b6dc89",
   "metadata": {},
   "outputs": [],
   "source": []
  },
  {
   "cell_type": "code",
   "execution_count": null,
   "id": "acacb437-e82f-47ab-ae9c-7d2db52c9a8a",
   "metadata": {},
   "outputs": [],
   "source": [
    "#Part 3"
   ]
  },
  {
   "cell_type": "code",
   "execution_count": 113,
   "id": "bda3e48a-97e6-4f6e-9e3f-9e8d51e4a8fd",
   "metadata": {},
   "outputs": [
    {
     "data": {
      "text/plain": [
       "([0,\n",
       "  1,\n",
       "  2,\n",
       "  3,\n",
       "  4,\n",
       "  5,\n",
       "  6,\n",
       "  7,\n",
       "  8,\n",
       "  9,\n",
       "  10,\n",
       "  11,\n",
       "  12,\n",
       "  13,\n",
       "  14,\n",
       "  15,\n",
       "  16,\n",
       "  17,\n",
       "  18,\n",
       "  19,\n",
       "  20,\n",
       "  21,\n",
       "  22,\n",
       "  23,\n",
       "  24,\n",
       "  25,\n",
       "  26,\n",
       "  27,\n",
       "  28,\n",
       "  29,\n",
       "  30,\n",
       "  31,\n",
       "  32,\n",
       "  33,\n",
       "  34,\n",
       "  35,\n",
       "  36,\n",
       "  37,\n",
       "  38,\n",
       "  39,\n",
       "  40,\n",
       "  41,\n",
       "  42,\n",
       "  43,\n",
       "  44,\n",
       "  45,\n",
       "  46,\n",
       "  47,\n",
       "  48],\n",
       " [Text(0, 0, ' California'),\n",
       "  Text(1, 0, ' New York'),\n",
       "  Text(2, 0, ' Texas'),\n",
       "  Text(3, 0, ' Illinois'),\n",
       "  Text(4, 0, ' Pennsylvania'),\n",
       "  Text(5, 0, ' Massachusetts'),\n",
       "  Text(6, 0, ' Ohio'),\n",
       "  Text(7, 0, ' North Carolina'),\n",
       "  Text(8, 0, ' Georgia'),\n",
       "  Text(9, 0, ' New Jersey'),\n",
       "  Text(10, 0, ' Virginia'),\n",
       "  Text(11, 0, ' Florida'),\n",
       "  Text(12, 0, ' Minnesota'),\n",
       "  Text(13, 0, ' Connecticut'),\n",
       "  Text(14, 0, ' Washington'),\n",
       "  Text(15, 0, ' Michigan'),\n",
       "  Text(16, 0, ' Tennessee'),\n",
       "  Text(17, 0, ' Colorado'),\n",
       "  Text(18, 0, ' Ireland'),\n",
       "  Text(19, 0, ' Missouri'),\n",
       "  Text(20, 0, ' Indiana'),\n",
       "  Text(21, 0, ' Wisconsin'),\n",
       "  Text(22, 0, ' Arizona'),\n",
       "  Text(23, 0, ' Maryland'),\n",
       "  Text(24, 0, ' Nevada'),\n",
       "  Text(25, 0, ' Oklahoma'),\n",
       "  Text(26, 0, ' United Kingdom'),\n",
       "  Text(27, 0, ' Rhode Island'),\n",
       "  Text(28, 0, ' Louisiana'),\n",
       "  Text(29, 0, ' Arkansas'),\n",
       "  Text(30, 0, ' Switzerland'),\n",
       "  Text(31, 0, ' Kentucky'),\n",
       "  Text(32, 0, ' Nebraska'),\n",
       "  Text(33, 0, ' Bermuda'),\n",
       "  Text(34, 0, ' Delaware'),\n",
       "  Text(35, 0, ' Utah'),\n",
       "  Text(36, 0, ' Alabama'),\n",
       "  Text(37, 0, ' Idaho'),\n",
       "  Text(38, 0, ' Netherlands'),\n",
       "  Text(39, 0, ' Iowa'),\n",
       "  Text(40, 0, ' Israel'),\n",
       "  Text(41, 0, '\\xa0Kingdom of the Netherlands'),\n",
       "  Text(42, 0, '\\xa0Florida'),\n",
       "  Text(43, 0, ' D.C.'),\n",
       "  Text(44, 0, ' Oregon'),\n",
       "  Text(45, 0, ' Maine'),\n",
       "  Text(46, 0, '\\xa0Tennessee'),\n",
       "  Text(47, 0, ' UK'),\n",
       "  Text(48, 0, '\\xa0Switzerland')])"
      ]
     },
     "execution_count": 113,
     "metadata": {},
     "output_type": "execute_result"
    },
    {
     "data": {
      "image/png": "[encoded data removed]",
      "text/plain": [
       "<Figure size 2000x800 with 1 Axes>"
      ]
     },
     "metadata": {},
     "output_type": "display_data"
    }
   ],
   "source": [
    "data[\"state\"] = data[\"hq\"].apply(lambda x: x.split(\",\")[-1])\n",
    "states = data[\"state\"].value_counts().reset_index()\n",
    "plt.subplots(1,1, figsize = (20,8))\n",
    "plt.bar(states[\"state\"], states[\"count\"])\n",
    "plt.xticks(rotation = 90)"
   ]
  },
  {
   "cell_type": "code",
   "execution_count": 115,
   "id": "f9812220-c4a8-4442-b093-a4c5c2729eca",
   "metadata": {},
   "outputs": [],
   "source": [
    "import io\n",
    "url2 = \"https://ies-fsv.s3.eu-central-1.amazonaws.com/companies/companies_subindustry.csv\"\n",
    "req2 = requests.get(url2).content\n",
    "data2 =pd.read_csv(io.StringIO(req2.decode('utf-8')))"
   ]
  },
  {
   "cell_type": "code",
   "execution_count": 116,
   "id": "cdd8282c-fc44-4435-8e25-18bf7d491b4a",
   "metadata": {},
   "outputs": [],
   "source": [
    "new_df = data.merge(data2, on=\"Symbol\")"
   ]
  },
  {
   "cell_type": "code",
   "execution_count": 120,
   "id": "308b5293-c9a9-4dbe-b8f9-b8e6af2d2356",
   "metadata": {},
   "outputs": [],
   "source": []
  },
  {
   "cell_type": "code",
   "execution_count": 123,
   "id": "3f327fab-c59b-4673-9f47-41e776309e9c",
   "metadata": {},
   "outputs": [],
   "source": [
    "#random variables\n",
    "#generate random 5 data of std normal distr:\n",
    "np.random.seed(1234)\n",
    "#normal:\n",
    "v1 = np.random.randn(1)\n",
    "#t-distr:\n",
    "v2 = np.random.standard_t(4, 1)\n",
    "#uniform\n",
    "v3 = np.random.uniform(10, 11, 1)\n",
    "\n",
    "v4 = np.random.beta(1,2,1)\n"
   ]
  },
  {
   "cell_type": "code",
   "execution_count": null,
   "id": "d6445ac3-5d50-4a6b-add8-9c40c58883f1",
   "metadata": {},
   "outputs": [],
   "source": []
  }
 ],
 "metadata": {
  "kernelspec": {
   "display_name": "Python 3 (ipykernel)",
   "language": "python",
   "name": "python3"
  },
  "language_info": {
   "codemirror_mode": {
    "name": "ipython",
    "version": 3
   },
   "file_extension": ".py",
   "mimetype": "text/x-python",
   "name": "python",
   "nbconvert_exporter": "python",
   "pygments_lexer": "ipython3",
   "version": "3.11.9"
  }
 },
 "nbformat": 4,
 "nbformat_minor": 5
}
