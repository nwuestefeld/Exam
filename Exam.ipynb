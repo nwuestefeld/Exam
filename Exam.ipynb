{
 "cells": [
  {
   "cell_type": "markdown",
   "id": "cf73666c-0bfa-436c-a590-391b86f85d5c",
   "metadata": {},
   "source": [
    "## Midterm Exam Python\n",
    "by Nils Wüstefeld"
   ]
  },
  {
   "cell_type": "code",
   "execution_count": null,
   "id": "6b700183-51c4-4cd7-aa24-e0cd9dbb2b5c",
   "metadata": {},
   "outputs": [],
   "source": []
  },
  {
   "cell_type": "code",
   "execution_count": null,
   "id": "3d0ea2bf-b911-4cff-b902-8f502efca66a",
   "metadata": {},
   "outputs": [],
   "source": []
  },
  {
   "cell_type": "code",
   "execution_count": null,
   "id": "2521ba60-5420-4bfa-951c-dd1e8dc54035",
   "metadata": {},
   "outputs": [],
   "source": []
  },
  {
   "cell_type": "code",
   "execution_count": null,
   "id": "c1c1500a-3a0f-4b1c-b358-ec63feb33274",
   "metadata": {},
   "outputs": [],
   "source": []
  },
  {
   "cell_type": "code",
   "execution_count": null,
   "id": "5bf62537-22f1-4824-be53-357648567e16",
   "metadata": {},
   "outputs": [],
   "source": []
  },
  {
   "cell_type": "code",
   "execution_count": null,
   "id": "97d7b6b7-49c1-4ffa-9a27-2e5a2ef4c8f9",
   "metadata": {},
   "outputs": [],
   "source": []
  },
  {
   "cell_type": "code",
   "execution_count": null,
   "id": "9d177288-7fc4-42e2-b68e-196717edb884",
   "metadata": {},
   "outputs": [],
   "source": []
  }
 ],
 "metadata": {
  "kernelspec": {
   "display_name": "Python 3 (ipykernel)",
   "language": "python",
   "name": "python3"
  },
  "language_info": {
   "codemirror_mode": {
    "name": "ipython",
    "version": 3
   },
   "file_extension": ".py",
   "mimetype": "text/x-python",
   "name": "python",
   "nbconvert_exporter": "python",
   "pygments_lexer": "ipython3",
   "version": "3.11.9"
  }
 },
 "nbformat": 4,
 "nbformat_minor": 5
}
