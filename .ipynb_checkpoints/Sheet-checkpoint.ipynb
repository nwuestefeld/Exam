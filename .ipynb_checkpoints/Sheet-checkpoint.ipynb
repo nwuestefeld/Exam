{
 "cells": [
  {
   "cell_type": "markdown",
   "id": "748a95b9-6520-4401-bf20-1dd79d073465",
   "metadata": {},
   "source": [
    "### Who are the Lectureres\n",
    "\n",
    "### What is a Data Pipeline?\n",
    "\n",
    "### When to use python:\n",
    "    Daza Science\n",
    "    Web dev\n",
    "    CLound Compting\n",
    "\n"
   ]
  },
  {
   "cell_type": "code",
   "execution_count": null,
   "id": "ddde736c-e920-448e-a916-79b6e04bb8eb",
   "metadata": {},
   "outputs": [],
   "source": [
    "import pandas as pd\n",
    "import numpy as np\n",
    "import seaborn\n"
   ]
  },
  {
   "cell_type": "code",
   "execution_count": null,
   "id": "16fe45ae-f2be-4f9f-b814-c7b67f6ab1d6",
   "metadata": {},
   "outputs": [],
   "source": [
    "# Datatype of object:\n",
    "type()\n"
   ]
  },
  {
   "cell_type": "code",
   "execution_count": null,
   "id": "002e76b0-f9e0-4715-b17e-8224e61e77dc",
   "metadata": {},
   "outputs": [],
   "source": [
    "## Attribute = variable  assigned to obj\n",
    "class person:\n",
    "    name = \"John\"\n",
    "    age = 36\n",
    "person.name\n",
    "\n",
    "## Method = function assigned to obj\n",
    "o1 = o1.replace('Hello','Hi')\n",
    "\n",
    "## find all attributes/methods\n",
    "dir(o1)\n",
    "help(o1)\n",
    "\n",
    "dir() #names and attributes in current notebook"
   ]
  },
  {
   "cell_type": "code",
   "execution_count": null,
   "id": "8bba17a2-d4c0-46e2-bf0c-70376f0f3bd8",
   "metadata": {},
   "outputs": [],
   "source": [
    "#Explicit line joints: \n",
    "if 1900 < year < 2100 and 1 <= month <= 12 \\\n",
    "   and 1 <= day <= 31 and 0 <= hour < 24 \\\n",
    "   and 0 <= minute < 60 and 0 <= second < 60:\n",
    "   pass"
   ]
  },
  {
   "cell_type": "code",
   "execution_count": null,
   "id": "089d2d1f-8be9-48da-a711-0ff261bbf711",
   "metadata": {},
   "outputs": [],
   "source": [
    "#Keywords\n",
    "import keyword\n",
    "print(f\"{keyword.kwlist} \\n\\n {dir(__builtins__)}\")"
   ]
  },
  {
   "cell_type": "code",
   "execution_count": null,
   "id": "41aedc08-f056-4420-962d-ca87676f492b",
   "metadata": {},
   "outputs": [],
   "source": [
    "#Python numerical types:\n",
    "#numerical types: Integers, Floats, Longs and Complex"
   ]
  },
  {
   "cell_type": "markdown",
   "id": "84a6887a-2a81-447d-9a62-ea6b87a5c44b",
   "metadata": {},
   "source": [
    "### Math"
   ]
  },
  {
   "cell_type": "code",
   "execution_count": null,
   "id": "ab62d693-56d2-48f7-ad41-592c400bb542",
   "metadata": {},
   "outputs": [],
   "source": [
    "** #e hoch\n",
    "% # mod\n",
    "// # floor division\n"
   ]
  },
  {
   "cell_type": "markdown",
   "id": "c623db79-81c5-4dbb-ba92-5e8ea1402717",
   "metadata": {},
   "source": [
    "### Iterables"
   ]
  },
  {
   "cell_type": "code",
   "execution_count": 15,
   "id": "43655c1e-36ec-411d-a95b-c2a78bd9dc0d",
   "metadata": {},
   "outputs": [
    {
     "name": "stdout",
     "output_type": "stream",
     "text": [
      "10\n",
      "10\n",
      "20\n",
      "30\n",
      "40\n",
      "50\n"
     ]
    }
   ],
   "source": [
    "# __ iterating\n",
    "numbers = [10, 20, 30, 40, 50]\n",
    "iter_obj = iter(numbers)  # Get an iterator from the list\n",
    "\n",
    "\n",
    "print(next(iter_obj))  \n",
    "\n",
    "for n in numbers:\n",
    "    print(n)"
   ]
  },
  {
   "cell_type": "code",
   "execution_count": null,
   "id": "9396b89a-55da-46ee-bf3b-21361f74b4ba",
   "metadata": {},
   "outputs": [],
   "source": [
    "#Backward iteration"
   ]
  },
  {
   "cell_type": "markdown",
   "id": "c30c5863-cbf9-4b18-bc0c-ccebf09e1afb",
   "metadata": {},
   "source": [
    "### Strings"
   ]
  },
  {
   "cell_type": "code",
   "execution_count": null,
   "id": "ba4d1802-b490-4b57-896a-42b98e1a5faa",
   "metadata": {},
   "outputs": [],
   "source": [
    "txt_var = 'This is a text variable'\n",
    "# f-string notation - string interpolation [formatted string literals] \n",
    "\n",
    "print(f\"I do not have a value\") # actually faster initialization\n",
    "print(f\"I have myself and I print some value {txt_var}\")"
   ]
  },
  {
   "cell_type": "code",
   "execution_count": null,
   "id": "59cb4163-5b13-4976-b129-1ff7fdafea31",
   "metadata": {},
   "outputs": [],
   "source": [
    "## strip\n",
    "\n",
    "'   IES FSV UK    '.strip() # remove white spaces from left and right side of the string\n",
    "\n",
    "\n",
    "## replace\n",
    "\n",
    "'   IES FSV UK    '.replace(\" \",\"*\") #remove white spaces"
   ]
  },
  {
   "cell_type": "markdown",
   "id": "c4a532fb-369f-4d08-867c-1906ccbc6381",
   "metadata": {},
   "source": [
    "Slicing with Strings\n"
   ]
  },
  {
   "cell_type": "code",
   "execution_count": 150,
   "id": "5d07f0a3-1a85-4b23-9eac-12de0ec958c1",
   "metadata": {},
   "outputs": [
    {
     "name": "stdout",
     "output_type": "stream",
     "text": [
      "yth\n",
      "Ptoi\n",
      "cinohtyP\n"
     ]
    }
   ],
   "source": [
    "my_str = \"Pythonic\"\n",
    "substring = my_str[1:4]\n",
    "print(substring)\n",
    "\n",
    "#skip every second\n",
    "skipped_string = my_str[::2]\n",
    "print(skipped_string)\n",
    "\n",
    "#reverse order:\n",
    "reversed_string = my_str[::-1]\n",
    "print(reversed_string)"
   ]
  },
  {
   "cell_type": "markdown",
   "id": "a6fb69c8-b580-4ef7-8afc-e578e9bc6fde",
   "metadata": {},
   "source": [
    "f Strings"
   ]
  },
  {
   "cell_type": "code",
   "execution_count": 151,
   "id": "dbfefbb7-9c52-43bb-b23a-438b6fd6f799",
   "metadata": {},
   "outputs": [
    {
     "data": {
      "text/plain": [
       "'my string is Pythonic'"
      ]
     },
     "execution_count": 151,
     "metadata": {},
     "output_type": "execute_result"
    }
   ],
   "source": [
    "f'my string is {my_str}'"
   ]
  },
  {
   "cell_type": "code",
   "execution_count": 153,
   "id": "885263be-2e54-4cd2-8dd1-6b5ef433dcba",
   "metadata": {},
   "outputs": [
    {
     "data": {
      "text/plain": [
       "'my string is Pythonic, no kidding!'"
      ]
     },
     "execution_count": 153,
     "metadata": {},
     "output_type": "execute_result"
    }
   ],
   "source": [
    "f'my string is {my_str+ \", no kidding!\"}' # notice the \"\" in f string"
   ]
  },
  {
   "cell_type": "code",
   "execution_count": 155,
   "id": "e8442588-9c40-4cdf-98dd-c906851133dc",
   "metadata": {},
   "outputs": [
    {
     "data": {
      "text/plain": [
       "'my string is Pythonic, no kidding!'"
      ]
     },
     "execution_count": 155,
     "metadata": {},
     "output_type": "execute_result"
    }
   ],
   "source": [
    "f'my string is {my_str}, no kidding!'"
   ]
  },
  {
   "cell_type": "code",
   "execution_count": null,
   "id": "2bf8dc62-5068-4bd8-9b55-826b233eb0c4",
   "metadata": {},
   "outputs": [],
   "source": [
    "#multiline print: \n",
    "multiline = \"\"\"This is a\n",
    "multiline string.\"\"\"\n",
    "print(multiline)"
   ]
  },
  {
   "cell_type": "code",
   "execution_count": 156,
   "id": "8baf725b-c589-4cc9-bb27-5d5b818e7370",
   "metadata": {},
   "outputs": [
    {
     "data": {
      "text/plain": [
       "'PYTHON IS fantastic!'"
      ]
     },
     "execution_count": 156,
     "metadata": {},
     "output_type": "execute_result"
    }
   ],
   "source": [
    "# Example: Converting, replacing, and formatting strings\n",
    "original = \"Python is fun\"\n",
    "#make everythin upercase, than replace\n",
    "formatted = original.upper().replace(\"FUN\", \"fantastic\")\n",
    "final = f\"{formatted}!\"\n",
    "final\n",
    "\n"
   ]
  },
  {
   "cell_type": "code",
   "execution_count": 158,
   "id": "0c7f92b6-92d7-4ea3-9717-93d93533f2f8",
   "metadata": {},
   "outputs": [
    {
     "name": "stdout",
     "output_type": "stream",
     "text": [
      "Hello\n"
     ]
    }
   ],
   "source": [
    "my_arr = list(range(10))\n",
    "my_arr[3] = 'hi'\n",
    "my_arr\n",
    "\n",
    "#doestn work for strings directly:\n",
    "#s =\"hello\"\n",
    "#s[0] = \"a\" wont work!\n",
    "\n",
    "s = \"hello\"\n",
    "s = \"H\" + s[1:]  # Erstellt einen neuen String\n",
    "print(s)\n"
   ]
  },
  {
   "cell_type": "markdown",
   "id": "c2931fbb-3807-4804-a722-a50e6ce35a60",
   "metadata": {},
   "source": [
    "### Functions"
   ]
  },
  {
   "cell_type": "code",
   "execution_count": null,
   "id": "71eb3bb5-77c4-42fd-9a23-5f7537042972",
   "metadata": {},
   "outputs": [],
   "source": [
    "#unknown amout of args\n",
    "\n",
    "def fee (*args):\n",
    "    for el in args:\n",
    "        print(el)\n",
    "\n",
    "\n",
    "def fee2 (**kwrds):\n",
    "    for key, el in kwrd.items():\n",
    "        print(key,el)"
   ]
  },
  {
   "cell_type": "code",
   "execution_count": null,
   "id": "552e04f4-99c4-4a0c-a34d-b22db57d74fe",
   "metadata": {},
   "outputs": [],
   "source": [
    "#try except:\n",
    "for i in range(5,-6,-1):\n",
    "    try:\n",
    "        print(5/i)\n",
    "    except Exception as e:\n",
    "        print(e)\n",
    "\n"
   ]
  },
  {
   "cell_type": "markdown",
   "id": "920d5962-0f9f-4a65-b034-f59f41fb16a0",
   "metadata": {},
   "source": [
    "### Containers: Lists, Arrays, etc\n"
   ]
  },
  {
   "cell_type": "markdown",
   "id": "fd3bdbcb-1b01-42af-8536-966a6f34373b",
   "metadata": {},
   "source": [
    "Lists: can save ints, str, fun, etc\n",
    "\n",
    "Important!: Lists are assigned as a reference!"
   ]
  },
  {
   "cell_type": "code",
   "execution_count": 10,
   "id": "29c71455-6ce5-4f3a-8217-cb21dde75487",
   "metadata": {},
   "outputs": [
    {
     "name": "stdout",
     "output_type": "stream",
     "text": [
      "['a', 'b', 'c', 'd', 'e']\n"
     ]
    }
   ],
   "source": [
    "#bsp:\n",
    "[0,\"a\",labda x: x+1]\n",
    "\n",
    "#works with strings and chars\n",
    "colors = ['red','blue','green']\n",
    "tmp = list('abcd')\n",
    "tmp.append('e')\n",
    "tmp.extend([5,6])\n",
    "print(tmp)\n",
    "\n",
    "\n",
    "#remove elements\n",
    "tmp.remove(5)\n",
    "\n",
    "#pop: remove and returns last element:\n",
    "tmp.pop()\n",
    "\n",
    "\n",
    "#repeating:\n",
    "repeated = my_list * 2  "
   ]
  },
  {
   "cell_type": "code",
   "execution_count": 12,
   "id": "638c2845-c5a5-4418-8318-f60be560456b",
   "metadata": {},
   "outputs": [
    {
     "data": {
      "text/plain": [
       "['a', 'b', 'c']"
      ]
     },
     "execution_count": 12,
     "metadata": {},
     "output_type": "execute_result"
    }
   ],
   "source": [
    "## access elements:\n",
    "\n",
    "tmp[0:3] #upper bound is not inclusive"
   ]
  },
  {
   "cell_type": "markdown",
   "id": "c6a69171-2f72-4207-807a-0f1cff3f4932",
   "metadata": {},
   "source": [
    "List Comprehension = Create list without loop"
   ]
  },
  {
   "cell_type": "code",
   "execution_count": 14,
   "id": "86d7f05c-c449-4a66-994a-eae8afcc3d70",
   "metadata": {},
   "outputs": [
    {
     "data": {
      "text/plain": [
       "[1, 4, 9, 16, 25]"
      ]
     },
     "execution_count": 14,
     "metadata": {},
     "output_type": "execute_result"
    }
   ],
   "source": [
    "l = [1,2,3,4,5]\n",
    "[el**2 for el in l] #quad every element in l\n",
    "\n",
    "my_list1 = [i + 1 for i in my_list] #ad 1 on ever element\n",
    "my_list1\n",
    "\n",
    "#list with even numbers\n",
    "evens = [x**2 for x in range(10) if x % 2 == 0] #comprehension with conditions\n",
    "evens\n",
    "\n",
    "\n",
    "#with 2 nested functions:\n",
    "# Transposing a matrix using nested list comprehension - two for loops in one comprehension\n",
    "matrix = [[1, 2, 3], [4, 5, 6], [7, 8, 9]]\n",
    "#outer: collect cols. inner create row based on col\n",
    "transposed = [[row[i] for row in matrix] for i in range(3)]"
   ]
  },
  {
   "cell_type": "code",
   "execution_count": 145,
   "id": "ff2c0674-fb77-4f9e-8230-349c8165745d",
   "metadata": {},
   "outputs": [],
   "source": [
    "#Iterate over List:\n",
    "for item in my_list:\n",
    "    print(item)\n",
    "\n",
    "#with index:\n",
    "for idx, item in enumerate([1,2,43,4,5,3,1]):\n",
    "    print(f\"index {idx} in my_list contains value {item}\")\n",
    "\n",
    "\n",
    "#Iterate Backward:\n",
    "[item for item in reversed(my_list)]"
   ]
  },
  {
   "cell_type": "markdown",
   "id": "7156fb18-c3eb-4676-9a7f-4969f52da0b7",
   "metadata": {},
   "source": [
    "Subsetting and Slicing Lists"
   ]
  },
  {
   "cell_type": "code",
   "execution_count": null,
   "id": "8d180800-6080-41f3-bbba-9ca465a80722",
   "metadata": {},
   "outputs": [],
   "source": [
    "# Size of matrix\n",
    "rows = len(matrix)\n",
    "cols = len(matrix[0])\n",
    "print(rows, cols)\n",
    "\n",
    "\n",
    "\n",
    "my_list[0:len(my_list):2] # start:end:step\n",
    "\n",
    "my_list[::2] # get every other item\n",
    "\n",
    "reversed_list = my_list[::-1] #reverse\n",
    "\n",
    "#flatten\n",
    "matrix = [[1, 2, 3], [4, 5, 6], [7, 8, 9]]\n",
    "flat_list = [element for row in matrix for element in row] #two-for loops in one comprehension\n",
    "print(flat_list)"
   ]
  },
  {
   "cell_type": "markdown",
   "id": "17a71612-bbc6-4f68-ad57-a30b0cbbbbaa",
   "metadata": {},
   "source": [
    "### Basic Operations on Arrays:"
   ]
  },
  {
   "cell_type": "code",
   "execution_count": null,
   "id": "c69eb020-4bc6-4d59-81cb-dfa6f2525737",
   "metadata": {},
   "outputs": [],
   "source": [
    "# Using sum, min, max, and len\n",
    "sum(my_list)  # 21\n",
    "min(my_list)  # 1\n",
    "max(my_list)  # 6\n",
    "len(my_list)  # 6\n",
    "\n",
    "\n",
    "#merge lists:\n",
    "list_a = [1, 2, 3]\n",
    "list_b = [4, 5, 6]\n",
    "[*list_a, *list_b] #need unpack operator to access elements here\n",
    "#equivalent:\n",
    "list_a + list_b\n",
    "\n",
    "# how does this differ?\n",
    "list_a.extend(list_b) # modifies list_a"
   ]
  },
  {
   "cell_type": "markdown",
   "id": "062e9921-1320-41e1-843f-dee28c0675bd",
   "metadata": {},
   "source": [
    "### Dictionaries : Quicker Access"
   ]
  },
  {
   "cell_type": "code",
   "execution_count": 161,
   "id": "c5268d98-e606-4d60-9681-f22120dcc52d",
   "metadata": {},
   "outputs": [
    {
     "name": "stdout",
     "output_type": "stream",
     "text": [
      "a 1\n",
      "b 2\n",
      "c 3\n",
      "1\n",
      "{'a': 1, 'b': 4, 'c': 3}\n"
     ]
    }
   ],
   "source": [
    "#dict and list of dict\n",
    "my_dict = {'a':1, 'b': 2, 'c': 3}\n",
    "for key, value in my_dict.items():\n",
    "    print(key, value)\n",
    "\n",
    "\n",
    "#accessing elements based on key:\n",
    "print(my_dict['a'])\n",
    "\n",
    "#saver\n",
    "my_dict.get('a')\n",
    "\n",
    "\n",
    "#merge dicts:\n",
    "dict1 = {'a': 1, 'b': 2}\n",
    "dict2 = {'c': 3, 'b': 4}\n",
    "print(dict1 | dict2)\n",
    "\n",
    "\n",
    "\n",
    "#Remove, and Add\n",
    "# Using get, pop, and update\n",
    "value = my_dict.get('a', 0)  # Get value with a default\n",
    "popped = my_dict.pop('b', 0)  # Remove item, default if not found\n",
    "my_dict.update({'d': 4, 'e': 5})  # Add multiple key-value pairs\n",
    "\n"
   ]
  },
  {
   "cell_type": "code",
   "execution_count": 160,
   "id": "d28caacd-4c65-4ad9-8c49-7558beea0f2b",
   "metadata": {},
   "outputs": [
    {
     "name": "stdout",
     "output_type": "stream",
     "text": [
      "{'key_0': 0, 'key_1': 1, 'key_2': 4, 'key_3': 9, 'key_4': 16}\n"
     ]
    }
   ],
   "source": [
    "squares = {f'key_{x}': x**2 for x in range(5)}\n",
    "print(squares)"
   ]
  },
  {
   "cell_type": "code",
   "execution_count": null,
   "id": "10f81dc1-ef36-40b8-a12f-b9d925edd0dc",
   "metadata": {},
   "outputs": [],
   "source": [
    "#Iterate Dict\n",
    "# Iterating through keys and values\n",
    "for key, value in my_dict.items():\n",
    "    print(f\"{key}: {value}\")"
   ]
  },
  {
   "cell_type": "code",
   "execution_count": 162,
   "id": "ba135c8a-22ea-4b3c-ae1f-3e8fbb86f6c1",
   "metadata": {},
   "outputs": [
    {
     "data": {
      "text/plain": [
       "{'a': 1, 'b': 4, 'c': 9}"
      ]
     },
     "execution_count": 162,
     "metadata": {},
     "output_type": "execute_result"
    }
   ],
   "source": [
    "#dictornary comprehension:\n",
    "\n",
    "#for each k, square v for all key-value pairs in my_dict\n",
    "squared_dict = {k: v**2 for k, v in my_dict.items()}\n",
    "squared_dict"
   ]
  },
  {
   "cell_type": "code",
   "execution_count": 164,
   "id": "1ed06fda-b638-48c1-9bf3-df8c94399a83",
   "metadata": {},
   "outputs": [
    {
     "data": {
      "text/plain": [
       "1"
      ]
     },
     "execution_count": 164,
     "metadata": {},
     "output_type": "execute_result"
    }
   ],
   "source": []
  },
  {
   "cell_type": "markdown",
   "id": "8c26a377-75f4-44e9-a11d-907cd69a127d",
   "metadata": {},
   "source": [
    "### Sets: {}: unordered collectio of unique elements"
   ]
  },
  {
   "cell_type": "code",
   "execution_count": 165,
   "id": "28e25696-3596-4f8e-9001-58a0f3f523e6",
   "metadata": {},
   "outputs": [
    {
     "data": {
      "text/plain": [
       "{1, 4, 9, 16}"
      ]
     },
     "execution_count": 165,
     "metadata": {},
     "output_type": "execute_result"
    }
   ],
   "source": [
    "\n",
    "x = {1, 2, 3}\n",
    "\n",
    "my_set = x\n",
    "my_set.add(4)\n",
    "my_set\n",
    "\n",
    "\n",
    "\n",
    "\n",
    "squared_set = {x**2 for x in my_set}\n",
    "squared_set\n",
    "\n",
    "\n",
    "\n",
    "#logic stuff:\n",
    "\n",
    "\n",
    "another_set = {3, 4, 5}\n",
    "union_set = my_set.union(another_set)\n",
    "intersection_set = my_set.intersection(another_set)\n",
    "difference_set = my_set.difference(another_set)\n",
    "union_set, intersection_set, difference_set\n",
    "# useful with strings, Getting subsets of some collections\n",
    "\n",
    "\n"
   ]
  },
  {
   "cell_type": "markdown",
   "id": "5bb0645a-c92f-4658-bd74-7b28f22f4d84",
   "metadata": {},
   "source": [
    "### Tupels: immutable and order cannot be changed"
   ]
  },
  {
   "cell_type": "code",
   "execution_count": 169,
   "id": "0573ed36-cb16-4c5f-815e-6fbd9717fe67",
   "metadata": {},
   "outputs": [
    {
     "name": "stdout",
     "output_type": "stream",
     "text": [
      "fruit:\n",
      "  apple: 3\n",
      "  banana: 5\n",
      "vegetable:\n",
      "  carrot: 4\n",
      "  pepper: 7\n"
     ]
    }
   ],
   "source": [
    "\n",
    "\n",
    "my_tuple = (1, \"apple\", 3.14)\n",
    "element = my_tuple[1]\n",
    "element\n",
    "\n",
    "#get individual values:\n",
    "x, y, z = my_tuple\n",
    "\n",
    "\n",
    "#nested stuff: Tupels as Values in Dict\n",
    "nested_data = {\n",
    "    'fruit': {'apple': 3, 'banana': 5},\n",
    "    'vegetable': {'carrot': 4, 'pepper': 7}\n",
    "}\n",
    "\n",
    "for key, value in nested_data.items():\n",
    "    print(f\"{key}:\")\n",
    "    for inner_key, inner_value in value.items():\n",
    "        print(f\"  {inner_key}: {inner_value}\")\n",
    "\n",
    "\n",
    "#summing:\n",
    "\n",
    "\n",
    "# Summing counts\n",
    "word_sum = {word: sum(counts) for word, counts in word_count.items()}\n",
    "word_sum\n"
   ]
  },
  {
   "cell_type": "markdown",
   "id": "25fac278-2d13-4bc2-85ea-106e8a74b45f",
   "metadata": {},
   "source": [
    "### Default Dict: prevents key value errors"
   ]
  },
  {
   "cell_type": "code",
   "execution_count": 171,
   "id": "b70d6231-ccf5-4543-8fd2-22b41cd6e17a",
   "metadata": {},
   "outputs": [
    {
     "data": {
      "text/plain": [
       "defaultdict(int, {'apple': 2, 'banana': 1, 'cherry': 2})"
      ]
     },
     "execution_count": 171,
     "metadata": {},
     "output_type": "execute_result"
    }
   ],
   "source": [
    "from collections import defaultdict # import library, top of the script!!\n",
    "\n",
    "fruits = ['apple', 'banana', 'cherry', 'apple', 'cherry'] #could how many of each we have\n",
    "fruit_counts = defaultdict(int)\n",
    "fruit_counts\n",
    "\n",
    "for fruit in fruits:\n",
    "    fruit_counts[fruit] += 1\n",
    "fruit_counts\n",
    "\n",
    "\n",
    "#counting with default dict:\n",
    "# Using int as a default factory: default value for all new keys is 0\n",
    "word_count = defaultdict(int)\n",
    "\n",
    "for word in words:\n",
    "    word_count[word] += 1\n",
    "\n",
    "\n",
    "#nested default dict: dict of dicts: for example categories and than key ,value\n",
    "\n",
    "counter = defaultdict(lambda: defaultdict(int))"
   ]
  },
  {
   "cell_type": "markdown",
   "id": "c496971f-d00c-4839-af99-52de3983146e",
   "metadata": {},
   "source": [
    "### Arrays"
   ]
  },
  {
   "cell_type": "code",
   "execution_count": null,
   "id": "ef0e2f91-81c3-436a-92fe-1c6f5f43a6b9",
   "metadata": {},
   "outputs": [],
   "source": [
    "#first class fucntions, decoratiors"
   ]
  },
  {
   "cell_type": "markdown",
   "id": "25979e9a-e105-4c87-9565-15a6cada0add",
   "metadata": {},
   "source": [
    "Decorators:"
   ]
  },
  {
   "cell_type": "code",
   "execution_count": 172,
   "id": "3446a8d4-c8e6-4509-b970-1c2a0ea66a4b",
   "metadata": {},
   "outputs": [
    {
     "name": "stdout",
     "output_type": "stream",
     "text": [
      "Something is happening before the function is called.\n",
      "Hello, World! - inside greet\n",
      "Something is happening after the function 'greet' is called.\n"
     ]
    }
   ],
   "source": [
    "\n",
    "\n",
    "# 12. Decorators \n",
    "\n",
    "# Functions that modify the behavior of other functions.\n",
    "\n",
    "def my_decorator(func):\n",
    "    def wrapper():\n",
    "        print(\"Something is happening before the function is called.\")\n",
    "        func()\n",
    "        print(f\"Something is happening after the function '{func.__name__}' is called.\")\n",
    "    return wrapper\n",
    "\n",
    "@my_decorator\n",
    "def greet():\n",
    "    print(\"Hello, World! - inside greet\")\n",
    "\n",
    "greet()\n",
    "\n"
   ]
  },
  {
   "cell_type": "code",
   "execution_count": null,
   "id": "8aea5dfb-0e57-498f-bac9-8eb4b79fc4bc",
   "metadata": {},
   "outputs": [],
   "source": [
    "#I/O operations\n",
    "# Open file and return a corresponding file object.\n",
    " file = open(\"file.txt\", \"r\")\n",
    "# permission: 'r' for reading, \n",
    "#'w' for writing, \n",
    "#'a' for appending,\n",
    "#'r+' for reading and writing."
   ]
  },
  {
   "cell_type": "code",
   "execution_count": null,
   "id": "c2285714-94f5-4009-b6c0-9aed4b9413fa",
   "metadata": {},
   "outputs": [],
   "source": []
  },
  {
   "cell_type": "code",
   "execution_count": null,
   "id": "f06e9c6b-2406-46ec-9f77-61b7e96c5524",
   "metadata": {},
   "outputs": [],
   "source": []
  },
  {
   "cell_type": "markdown",
   "id": "3d1802a0-9406-40d6-be4c-a05381357802",
   "metadata": {},
   "source": [
    "## Loading Data and I/O Operations"
   ]
  },
  {
   "cell_type": "code",
   "execution_count": null,
   "id": "cb5841c1-5b46-4a9f-8312-37d6673db6cc",
   "metadata": {},
   "outputs": [],
   "source": [
    "import os #import at first cell - sorry PEP8\n",
    "\n",
    "# List directory content\n",
    "print(os.listdir('.'))\n",
    "\n",
    "\n",
    "\n",
    "# Change directory\n",
    "os.chdir('./')\n",
    "\n",
    "# Get current directory\n",
    "current_dir = os.getcwd()\n",
    "print(current_dir)\n",
    "\n",
    "os.path.join('/Users','lubos','path','to','somewhere') #takes *args as well"
   ]
  },
  {
   "cell_type": "code",
   "execution_count": null,
   "id": "174546c7-e780-4303-b2b7-23976baaaa00",
   "metadata": {},
   "outputs": [],
   "source": [
    "os.getcwd()"
   ]
  },
  {
   "cell_type": "code",
   "execution_count": null,
   "id": "ddc65996-b50c-4ab1-b05c-ffa9ae6c79ae",
   "metadata": {},
   "outputs": [],
   "source": [
    "#longer exmaple "
   ]
  },
  {
   "cell_type": "code",
   "execution_count": null,
   "id": "a6216653-14dd-4a94-a92f-eb870067f03a",
   "metadata": {},
   "outputs": [],
   "source": [
    "#"
   ]
  },
  {
   "cell_type": "code",
   "execution_count": null,
   "id": "c3631e8d-248a-4f83-ac7f-40dedc1edf01",
   "metadata": {},
   "outputs": [],
   "source": [
    "# Writing to a file\n",
    "with open('example.txt', 'w') as file:\n",
    "    file.write(\"Hello, Python!\")\n",
    "\n",
    "# Reading from a file\n",
    "with open('example.txt', 'r') as file:\n",
    "    content = file.read()\n",
    "    print(content)\n",
    "\n",
    "\n",
    "# Reading file line by line\n",
    "with open('example.txt', 'r') as file:\n",
    "    for line in file:\n",
    "        print(line)"
   ]
  },
  {
   "cell_type": "markdown",
   "id": "1280b1f3-e955-42eb-b18b-0912a4739d6e",
   "metadata": {},
   "source": [
    "### CVS"
   ]
  },
  {
   "cell_type": "code",
   "execution_count": null,
   "id": "eca2a4e5-21b5-4cb1-b208-19e89c644579",
   "metadata": {},
   "outputs": [],
   "source": [
    "# Reading from a CSV file\n",
    "with open('people.csv', 'r') as file:\n",
    "    reader = csv.reader(file)\n",
    "    for row in reader:\n",
    "        print(row)\n",
    "\n",
    "try:\n",
    "    with open('nonexistent.txt', 'r') as file:\n",
    "        content = file.read()\n",
    "except FileNotFoundError:\n",
    "    print(\"File not found.\")\n",
    "\n",
    "\n",
    "#with pandas:\n",
    "df = pd.read_csv('04_auxiliary/data_2017_zs.csv', sep = ';', on_bad_lines= 'skip')"
   ]
  },
  {
   "cell_type": "code",
   "execution_count": null,
   "id": "65a13195-9a6b-4219-8552-d3ce39813a41",
   "metadata": {},
   "outputs": [],
   "source": [
    "# from Zip:\n",
    "import zipfile\n",
    "import pandas as pd\n",
    "zip_file_path = 'data/covid.zip'\n",
    "\n",
    "with zipfile.ZipFile(zip_file_paht, 'r') as z:\n",
    "    print(z.namelist()) #list all the zipfiles\n",
    "\n",
    "    #specify the file you want to load:\n",
    "    csv_filename = 'Covid data/CovidDeaths.csv'\n",
    "    #or \n",
    "    csv_filename = z.namelist()[0]\n",
    "\n",
    "    with z.open(csv.filename) as f:\n",
    "        df = pd.read_csv(f)"
   ]
  },
  {
   "cell_type": "markdown",
   "id": "2a799c71-8048-4200-8681-59b33c6c9784",
   "metadata": {},
   "source": [
    "### Data Pipelines"
   ]
  },
  {
   "cell_type": "code",
   "execution_count": null,
   "id": "235878ab-149e-4f86-98c1-44da8b1105f7",
   "metadata": {},
   "outputs": [],
   "source": [
    "def read_data(file_path):\n",
    "    data = []\n",
    "    with open(file_path, 'r') as file:\n",
    "        for line in file:\n",
    "            name, age = line.strip().split(',')\n",
    "            data.append((name, int(age)))\n",
    "    return data\n",
    "\n",
    "def calculate_average_age(data):\n",
    "    total_age = sum(age for _, age in data)\n",
    "    average_age = total_age / len(data)\n",
    "    return average_age\n",
    "\n",
    "def display_average_age(average_age):\n",
    "    print(f\"The average age is: {average_age:.2f}\")\n",
    "\n",
    "\n",
    "#combine all aux functions\n",
    "def main(file_path):\n",
    "    data = read_data(file_path)\n",
    "    average_age = calculate_average_age(data)\n",
    "    display_average_age(average_age)"
   ]
  },
  {
   "cell_type": "markdown",
   "id": "379be10e-48da-4973-ba24-bbd3c60a9830",
   "metadata": {},
   "source": [
    "## Numpy: memory efficient container for numerical operations"
   ]
  },
  {
   "cell_type": "code",
   "execution_count": 68,
   "id": "76fb157e-9f4e-4907-bf1b-d3c855560e82",
   "metadata": {},
   "outputs": [],
   "source": [
    "import numpy as np"
   ]
  },
  {
   "cell_type": "code",
   "execution_count": 81,
   "id": "cfc59d7b-5576-4109-b8c5-b4c531ce03f8",
   "metadata": {},
   "outputs": [
    {
     "name": "stdout",
     "output_type": "stream",
     "text": [
      "[0 1 2 3 4]\n",
      "[[2.e-323 2.e-323 2.e-323]\n",
      " [2.e-323 2.e-323 2.e-323]]\n"
     ]
    }
   ],
   "source": [
    "#Simple Array from list\n",
    "a = np.array([0,1,2,3,4])\n",
    "print(a)\n",
    "#empty array based on dims: 2 rows, 3 cols:\n",
    "b = np.empty((2,3))\n",
    "print(b)"
   ]
  },
  {
   "cell_type": "code",
   "execution_count": 74,
   "id": "bf1c35be-96a1-45f5-b3a3-9ea277f7106a",
   "metadata": {},
   "outputs": [
    {
     "data": {
      "text/plain": [
       "array([0, 1, 2, 3, 4, 5])"
      ]
     },
     "execution_count": 74,
     "metadata": {},
     "output_type": "execute_result"
    }
   ],
   "source": [
    "#append data:\n",
    "a = np.append(a,5)\n",
    "a"
   ]
  },
  {
   "cell_type": "code",
   "execution_count": 76,
   "id": "d6634fa3-db31-4681-8ad2-7d42eaae6de5",
   "metadata": {},
   "outputs": [
    {
     "name": "stdout",
     "output_type": "stream",
     "text": [
      "[0 1 2 3 4 5]\n",
      "0\n",
      "1\n",
      "2\n",
      "3\n",
      "4\n",
      "5\n"
     ]
    }
   ],
   "source": [
    "print(a)\n",
    "for i in a:\n",
    "    print(i)"
   ]
  },
  {
   "cell_type": "markdown",
   "id": "212338ef-99b8-4c67-8ae7-f01f11d331e0",
   "metadata": {},
   "source": [
    "### Slicing"
   ]
  },
  {
   "cell_type": "code",
   "execution_count": 79,
   "id": "f6fc4ed1-a631-407f-835f-66f42f26efec",
   "metadata": {},
   "outputs": [
    {
     "data": {
      "text/plain": [
       "(6,)"
      ]
     },
     "execution_count": 79,
     "metadata": {},
     "output_type": "execute_result"
    }
   ],
   "source": [
    "#dims:\n",
    "a.ndim\n",
    "\n",
    "len(a)\n",
    "\n",
    "#shapes:\n",
    "a.shape\n",
    "\n",
    "#1D: [\"cols\",] \n",
    "#2D: [\"rows\",\"cols\"]\n",
    "#3D: [\"rows\",\"cols\",depth\"]"
   ]
  },
  {
   "cell_type": "code",
   "execution_count": 82,
   "id": "6ed69142-e4ae-4b8d-abdd-a9428baf2d47",
   "metadata": {},
   "outputs": [
    {
     "data": {
      "text/plain": [
       "(2, 2)"
      ]
     },
     "execution_count": 82,
     "metadata": {},
     "output_type": "execute_result"
    }
   ],
   "source": [
    "#Array of Arrays:\n",
    "# a cosists of array [1,3] and array [2,3]\n",
    "a = np.array([\n",
    "    [1,3], [2,3]\n",
    "])\n",
    "\n",
    "a.shape\n"
   ]
  },
  {
   "cell_type": "code",
   "execution_count": 84,
   "id": "33232d3a-8258-4322-a1e3-05a775f436ef",
   "metadata": {},
   "outputs": [
    {
     "name": "stdout",
     "output_type": "stream",
     "text": [
      "Array:\n",
      " [[1 2 3]\n",
      " [4 5 6]]\n",
      "Shape: (2, 3)\n",
      "Data type: int64\n",
      "Number of dimensions: 2\n",
      "Size: 6\n"
     ]
    }
   ],
   "source": [
    "arr = np.array([[1, 2, 3], [4, 5, 6]])\n",
    "\n",
    "\n",
    "print(\"Array:\\n\", arr)\n",
    "print(\"Shape:\", arr.shape)    # (2, 3)\n",
    "print(\"Data type:\", arr.dtype)  # int64\n",
    "print(\"Number of dimensions:\", arr.ndim)  # 2\n",
    "print(\"Size:\", arr.size)    # 6\n"
   ]
  },
  {
   "cell_type": "code",
   "execution_count": 85,
   "id": "aef621ae-0217-4469-8265-74e46451a215",
   "metadata": {},
   "outputs": [
    {
     "data": {
      "text/plain": [
       "array([[[0, 1],\n",
       "        [2, 3]],\n",
       "\n",
       "       [[4, 5],\n",
       "        [6, 7]]])"
      ]
     },
     "execution_count": 85,
     "metadata": {},
     "output_type": "execute_result"
    }
   ],
   "source": [
    "#Reshaping Arrays:\n",
    "nda = np.arange(8).reshape((2,2,2))\n",
    "nda"
   ]
  },
  {
   "cell_type": "code",
   "execution_count": 110,
   "id": "02debc6f-ec27-4d51-8aa6-18cc682a52ee",
   "metadata": {},
   "outputs": [
    {
     "name": "stdout",
     "output_type": "stream",
     "text": [
      "[[1 2 3 4 5]]\n",
      "[[1]\n",
      " [2]\n",
      " [3]\n",
      " [4]\n",
      " [5]]\n",
      "1\n"
     ]
    }
   ],
   "source": [
    "a = np.array([1,2,3,4,5])\n",
    "a = a[np.newaxis, :] #ads row dimension\n",
    "#alterntive:\n",
    "np.expand_dims(a, axis=0)\n",
    "print(a)\n",
    "\n",
    "#add column dimension\n",
    "b  = np.array([1,2,3,4,5])\n",
    "b = b[:, np.newaxis]\n",
    "#alternative:\n",
    "np.expand_dims(a, axis=1)\n",
    "print(b)\n",
    "print(b[0][0])\n",
    "\n",
    "\n",
    "#flatten: # flattening\n",
    "#cFortran col-wise\n",
    "print(a.flatten(order = 'F'))\n",
    "\n",
    "# flattening rowwise\n",
    "print(a.flatten(order = 'C'))\n",
    "\n",
    "\n",
    "#join and spilt arrays:\n",
    "\n",
    "\n",
    "# Joining arrays\n",
    "array1 = np.array([1, 2, 3])\n",
    "array2 = np.array([4, 5, 6])\n",
    "joined_array = np.concatenate((array1, array2))\n",
    "\n",
    "# Splitting arrays\n",
    "split_arrays = np.split(joined_array, 2)\n"
   ]
  },
  {
   "cell_type": "code",
   "execution_count": 121,
   "id": "33d9c0c7-70ca-4d60-bf11-2869ffb9f642",
   "metadata": {},
   "outputs": [
    {
     "name": "stdout",
     "output_type": "stream",
     "text": [
      "(3, 3)\n",
      "[1 2 3]\n",
      "[1 4 7]\n",
      "2\n"
     ]
    },
    {
     "data": {
      "text/plain": [
       "array([0, 2])"
      ]
     },
     "execution_count": 121,
     "metadata": {},
     "output_type": "execute_result"
    }
   ],
   "source": [
    "#Acces Elements:\n",
    "c = np.array([1,2,3,4,5])\n",
    "#first element\n",
    "c[0]\n",
    "\n",
    "\n",
    "#2D: 3 rows , 3 cols\n",
    "arr_2d = np.array([[1, 2, 3], [4, 5, 6], [7, 8, 9]])\n",
    "print(arr_2d.shape)\n",
    "#first row:\n",
    "print(arr_2d[0,])\n",
    "#first col\n",
    "print(arr_2d[:,0])\n",
    "\n",
    "#first row, 2nd col\n",
    "print(arr_2d[0,1])\n",
    "\n",
    "#3D:\n",
    "#first matrix\n",
    "nda[0]\n",
    "#first row of matrix 1\n",
    "nda[0][0,]\n",
    "\n",
    "#first col of matrix 1:\n",
    "nda[0][:,0]\n",
    "\n",
    "\n",
    "#advanced stuff: \n",
    "#from 1. to 3. by 2: 1. Element and 3. ELement : rows\n",
    "a[0:3:2]\n",
    "\n",
    "#colums:\n",
    "#all rows, 1. to 3. Columnes by 2 steps: 1. and 3. column\n",
    "a[:,0:3:2]\n",
    "\n",
    "#rows and cols\n",
    "#row 1 and 3 , column 1 and 3\n",
    "a[:3:2,:3:2]"
   ]
  },
  {
   "cell_type": "markdown",
   "id": "dff06a3c-b826-48a0-ae4d-a046ec43b999",
   "metadata": {},
   "source": [
    "Array Arithmetric"
   ]
  },
  {
   "cell_type": "code",
   "execution_count": 131,
   "id": "4021a44c-4870-40da-b898-bc44964f174d",
   "metadata": {},
   "outputs": [
    {
     "name": "stdout",
     "output_type": "stream",
     "text": [
      "[4 6]\n",
      "[3 8]\n",
      "[2 3 4 5 6]\n",
      "False\n",
      "[ True  True False False False]\n",
      "True\n",
      "3.0\n"
     ]
    },
    {
     "data": {
      "text/plain": [
       "(array([1.        , 1.41421356, 1.73205081, 2.        , 2.23606798]),\n",
       " array([  2.71828183,   7.3890561 ,  20.08553692,  54.59815003,\n",
       "        148.4131591 ]),\n",
       " array([0.        , 0.69314718, 1.09861229, 1.38629436, 1.60943791]),\n",
       " array([ 0.84147098,  0.90929743,  0.14112001, -0.7568025 , -0.95892427]),\n",
       " array([ 0.54030231, -0.41614684, -0.9899925 , -0.65364362,  0.28366219]))"
      ]
     },
     "execution_count": 131,
     "metadata": {},
     "output_type": "execute_result"
    }
   ],
   "source": [
    "k = np.array([1,2])\n",
    "l = np.array([3,4])\n",
    "print(k + l)\n",
    "print(k*l.T) #transpose is important here\n",
    "\n",
    "\n",
    "#Broadcasting:  Elementwise operations\n",
    "a = np.array([1, 2, 3, 4, 5])\n",
    "print(a+1)\n",
    "print(a.all()>3)\n",
    "print(a<3)\n",
    "print(np.all(a == a))\n",
    "print(a.mean())\n",
    "\n",
    "#other operations\n",
    "print(array1.sum())\n",
    "#2d array ->\n",
    "print(array1.argmax())\n",
    "print(array1.mean())\n",
    "\n",
    "x = np.arange(1, 6)\n",
    "np.sqrt(x), np.exp(x), np.log(x), np.sin(x), np.cos(x)\n",
    "\n",
    "\n",
    "print(a.shape)\n",
    "#dot product of  transpose a and a 1x5 * 5x1 = 1\n",
    "#same for 1D\n",
    "a.T.dot(a)\n",
    "\n",
    "a.dot(a.T)\n",
    "\n",
    "#for 2D differnt"
   ]
  },
  {
   "cell_type": "code",
   "execution_count": 175,
   "id": "6eb98b2f-ceb1-4d5f-ac03-10202d80f001",
   "metadata": {},
   "outputs": [
    {
     "name": "stdout",
     "output_type": "stream",
     "text": [
      "Original array: [-5 -4 -3 -2 -1  0  1  2  3  4  5]\n",
      "Transformed array: [16  9  4  1  0  1  4  9 16 25 36]\n"
     ]
    }
   ],
   "source": [
    "#Vecotrized functions: apply over every element of a numpy array\n",
    "def poly_fun(x):\n",
    "    return x**2 + 2*x + 1\n",
    "\n",
    "vectorized_func = np.vectorize(poly_fun) # vectorize the function\n",
    "arr = np.arange(-5, 6) # array from -5 to 5\n",
    "\n",
    "print(\"Original array:\", arr)\n",
    "print(\"Transformed array:\", vectorized_func(arr))\n",
    "\n",
    "\n",
    "#not vectorized: (slower)\n",
    "#poly_fun([-5, -4, -3, -2, -1, 0, 1, 2, 3, 4, 5])\n"
   ]
  },
  {
   "cell_type": "code",
   "execution_count": null,
   "id": "f6bcd502-929b-4fb3-a027-83c36810826d",
   "metadata": {},
   "outputs": [],
   "source": [
    "#simulate random walk:\n",
    "import matplotlib.pyplot as plt\n",
    "\n",
    "steps = np.random.choice([-1, 1], size=300) # random steps\n",
    "position = np.cumsum(steps) # cumulative sum of the steps\n",
    "\n",
    "plt.plot(position)\n",
    "plt.title(\"1D Random Walk\")\n",
    "plt.xlabel(\"Step\")\n",
    "plt.ylabel(\"Position\")\n",
    "plt.show()"
   ]
  },
  {
   "cell_type": "code",
   "execution_count": 144,
   "id": "17ff83d4-3670-44a3-9452-9b3795dd1c16",
   "metadata": {},
   "outputs": [
    {
     "data": {
      "text/plain": [
       "<Axes: ylabel='Count'>"
      ]
     },
     "execution_count": 144,
     "metadata": {},
     "output_type": "execute_result"
    },
    {
     "data": {
      "image/png": "[encoded data removed]",
      "text/plain": [
       "<Figure size 640x480 with 1 Axes>"
      ]
     },
     "metadata": {},
     "output_type": "display_data"
    }
   ],
   "source": [
    "#Generate a Sequence: \n",
    "start = 0\n",
    "end = 1\n",
    "n_points = 10\n",
    "\n",
    "a = np.linspace(start, end, n_points) #R: seq()\n",
    "a\n",
    "\n",
    "#generate random 5 data of std normal distr:\n",
    "np.random.seed(1234)\n",
    "#normal:\n",
    "np.random.randn(4)\n",
    "#t-distr:\n",
    "np.random.standard_t(4, 4)\n",
    "#uniform\n",
    "np.random.uniform(10, 11, 4)\n",
    "\n",
    "#plot distribution:\n",
    "\n",
    "np.linspace(0, 1, 10) #uniform distribution\n",
    "np.random.randn(10) #normal distribution\n",
    "\n",
    "import seaborn as sns\n",
    "# plot the data\n",
    "sns.histplot(np.random.randn(1000), kde=True)\n",
    "\n"
   ]
  },
  {
   "cell_type": "code",
   "execution_count": null,
   "id": "96a72580-39f8-452f-87e1-09d610c120a0",
   "metadata": {},
   "outputs": [],
   "source": [
    "# time\n",
    "# if unsure about an algo\n",
    "# run on a small sample and get a time estimate! before run for days...\n",
    "a = np.arange(10000)\n",
    "%timeit -n 100 a + 1\n",
    "\n",
    "\n",
    "\n"
   ]
  },
  {
   "cell_type": "markdown",
   "id": "5bfe121b-a755-4858-9a5a-d063d2860c04",
   "metadata": {},
   "source": [
    "## Pandas\n",
    "Pandas is for data handeling.  \n",
    "Main Structures: DataFrame and Series"
   ]
  },
  {
   "cell_type": "markdown",
   "id": "1db782a6-65e5-4e3e-a755-874bc395dd0f",
   "metadata": {},
   "source": [
    "### Series = 1D Array to hold any data type\n",
    "\n",
    "Advantage over nd-Array:\n",
    "Operations align based on label!   \n",
    "F.E. 2 Series: jeweils Honza drin aber an unterschiedlicher postion wird trotzdem die werte für Honza zusammenrechnen\n",
    "\n",
    "\n",
    "A Series can be:\n",
    "- dict\n",
    "- list\n",
    "- ndarray\n",
    "- scalar\n"
   ]
  },
  {
   "cell_type": "code",
   "execution_count": 18,
   "id": "ffbccc69-d661-4062-98c1-959c02f58725",
   "metadata": {},
   "outputs": [
    {
     "data": {
      "text/plain": [
       "0    1\n",
       "1   -1\n",
       "2    1\n",
       "3   -1\n",
       "dtype: int64"
      ]
     },
     "execution_count": 18,
     "metadata": {},
     "output_type": "execute_result"
    }
   ],
   "source": [
    "import pandas as pd\n",
    "\n",
    "#based on list:\n",
    "pd.Series([1,-1,1,-1])"
   ]
  },
  {
   "cell_type": "code",
   "execution_count": 19,
   "id": "00a9d0e8-033d-4090-a118-80c4711c54fa",
   "metadata": {},
   "outputs": [
    {
     "data": {
      "text/plain": [
       "RangeIndex(start=0, stop=4, step=1)"
      ]
     },
     "execution_count": 19,
     "metadata": {},
     "output_type": "execute_result"
    }
   ],
   "source": [
    "#Range details\n",
    "pd.Series([1,-1,1,-1]).index"
   ]
  },
  {
   "cell_type": "code",
   "execution_count": 27,
   "id": "e9ae5003-5459-4df2-bc88-ab37fd0c7513",
   "metadata": {},
   "outputs": [
    {
     "data": {
      "text/plain": [
       "Index(['cat', 'dog', 'parrot'], dtype='object')"
      ]
     },
     "execution_count": 27,
     "metadata": {},
     "output_type": "execute_result"
    }
   ],
   "source": [
    "#Based on dict:\n",
    "dp = pd.Series({'cat':1,'dog':5, 'parrot':3})\n",
    "dp.index"
   ]
  },
  {
   "cell_type": "code",
   "execution_count": 29,
   "id": "b12d2fe5-7fcc-4415-aa8f-5fcb7172cdae",
   "metadata": {},
   "outputs": [
    {
     "data": {
      "text/plain": [
       "5"
      ]
     },
     "execution_count": 29,
     "metadata": {},
     "output_type": "execute_result"
    }
   ],
   "source": [
    "#access all the values:\n",
    "dp.values\n",
    "\n",
    "#acess the values location or label based: \n",
    "#The same when using Series but NOT for DF\n",
    "dp.loc['dog']\n",
    "dp['dog']"
   ]
  },
  {
   "cell_type": "code",
   "execution_count": 26,
   "id": "1a7426f8-77bb-4f49-ad17-0a610fd2fd7b",
   "metadata": {},
   "outputs": [
    {
     "data": {
      "text/plain": [
       "a    0\n",
       "b    1\n",
       "c    2\n",
       "d    3\n",
       "e    4\n",
       "dtype: int64"
      ]
     },
     "execution_count": 26,
     "metadata": {},
     "output_type": "execute_result"
    }
   ],
   "source": [
    "#Based on Nd-Array with custom index\n",
    "import numpy as np\n",
    "pd.Series(np.arange(5), index = ['a','b','c','d','e'])"
   ]
  },
  {
   "cell_type": "code",
   "execution_count": null,
   "id": "9bb6b596-ec93-4102-a10e-c22df8c8c2a1",
   "metadata": {},
   "outputs": [],
   "source": [
    "#Based on Np-Array"
   ]
  },
  {
   "cell_type": "code",
   "execution_count": null,
   "id": "217652bf-a353-44e8-8b91-1cea3d3c3f30",
   "metadata": {},
   "outputs": [],
   "source": []
  },
  {
   "cell_type": "code",
   "execution_count": null,
   "id": "a936a6e4-e063-4b79-ad85-e84698c6ac77",
   "metadata": {},
   "outputs": [],
   "source": []
  },
  {
   "cell_type": "code",
   "execution_count": null,
   "id": "885aa9d4-a62f-4c48-aeed-3413f6d640ba",
   "metadata": {},
   "outputs": [],
   "source": []
  },
  {
   "cell_type": "markdown",
   "id": "e354442e-2637-419d-88f7-d0340ce3c6c6",
   "metadata": {},
   "source": [
    "### Arrays:"
   ]
  },
  {
   "cell_type": "code",
   "execution_count": 30,
   "id": "35ce10b5-caa4-4f0b-b481-478b87456ccc",
   "metadata": {},
   "outputs": [
    {
     "data": {
      "text/plain": [
       "[5, 10, 0, 20, 15, 5]"
      ]
     },
     "execution_count": 30,
     "metadata": {},
     "output_type": "execute_result"
    }
   ],
   "source": [
    "a = [5,10,0]\n",
    "b = [20,15,5]\n",
    "\n",
    "a+b #list extention"
   ]
  },
  {
   "cell_type": "code",
   "execution_count": 31,
   "id": "48c328c0-db6d-4c96-8d05-e28acb6bcb8a",
   "metadata": {},
   "outputs": [
    {
     "data": {
      "text/plain": [
       "array([25, 25,  5])"
      ]
     },
     "execution_count": 31,
     "metadata": {},
     "output_type": "execute_result"
    }
   ],
   "source": [
    "np.array(a) + np.array(b) #array arithmetric"
   ]
  },
  {
   "cell_type": "markdown",
   "id": "6e357adc-cd28-42c8-936d-e193bd944c12",
   "metadata": {},
   "source": [
    "### Data Frames\n",
    "2D Labeld data structure with columns of potential different types"
   ]
  },
  {
   "cell_type": "code",
   "execution_count": 35,
   "id": "849574b8-5ffa-4ed3-b08a-bcbbd36300f3",
   "metadata": {},
   "outputs": [
    {
     "data": {
      "text/html": [
       "<div>\n",
       "<style scoped>\n",
       "    .dataframe tbody tr th:only-of-type {\n",
       "        vertical-align: middle;\n",
       "    }\n",
       "\n",
       "    .dataframe tbody tr th {\n",
       "        vertical-align: top;\n",
       "    }\n",
       "\n",
       "    .dataframe thead th {\n",
       "        text-align: right;\n",
       "    }\n",
       "</style>\n",
       "<table border=\"1\" class=\"dataframe\">\n",
       "  <thead>\n",
       "    <tr style=\"text-align: right;\">\n",
       "      <th></th>\n",
       "      <th>col1</th>\n",
       "      <th>column2</th>\n",
       "    </tr>\n",
       "  </thead>\n",
       "  <tbody>\n",
       "    <tr>\n",
       "      <th>0</th>\n",
       "      <td>1</td>\n",
       "      <td>0</td>\n",
       "    </tr>\n",
       "    <tr>\n",
       "      <th>1</th>\n",
       "      <td>2</td>\n",
       "      <td>0</td>\n",
       "    </tr>\n",
       "    <tr>\n",
       "      <th>2</th>\n",
       "      <td>3</td>\n",
       "      <td>0</td>\n",
       "    </tr>\n",
       "  </tbody>\n",
       "</table>\n",
       "</div>"
      ],
      "text/plain": [
       "   col1  column2\n",
       "0     1        0\n",
       "1     2        0\n",
       "2     3        0"
      ]
     },
     "execution_count": 35,
     "metadata": {},
     "output_type": "execute_result"
    }
   ],
   "source": [
    "# Init a Dataframe:\n",
    "#colwise\n",
    "a = pd.DataFrame({\"col1\":[1,2,3], \"col2\":[0,0,0]})\n",
    "\n",
    "#rowwise:\n",
    "pd.DataFrame([{\"col1\": 1, \"column2\": 0},\n",
    "               {\"col1\": 2, \"column2\": 0}, \n",
    "              {\"col1\": 3, \"column2\": 0}])"
   ]
  },
  {
   "cell_type": "code",
   "execution_count": null,
   "id": "5effe28e-79fc-471b-bfc4-0cea809d9f5b",
   "metadata": {},
   "outputs": [],
   "source": []
  },
  {
   "cell_type": "code",
   "execution_count": null,
   "id": "68bb8f8f-d4b1-4c1d-8176-2ab138ed941e",
   "metadata": {},
   "outputs": [],
   "source": []
  },
  {
   "cell_type": "code",
   "execution_count": 36,
   "id": "3dadea3a-b90f-45de-8702-cb367bc91537",
   "metadata": {},
   "outputs": [
    {
     "data": {
      "text/plain": [
       "(Index(['col1', 'col2'], dtype='object'), RangeIndex(start=0, stop=3, step=1))"
      ]
     },
     "execution_count": 36,
     "metadata": {},
     "output_type": "execute_result"
    }
   ],
   "source": [
    "a.columns, a.index\n"
   ]
  },
  {
   "cell_type": "code",
   "execution_count": null,
   "id": "a98711f4-0fbb-479e-9b81-2e972a0d61a2",
   "metadata": {},
   "outputs": [],
   "source": []
  },
  {
   "cell_type": "code",
   "execution_count": 40,
   "id": "61ecc396-43c2-4fb4-a1ad-46d266f1255c",
   "metadata": {},
   "outputs": [
    {
     "data": {
      "text/html": [
       "<div>\n",
       "<style scoped>\n",
       "    .dataframe tbody tr th:only-of-type {\n",
       "        vertical-align: middle;\n",
       "    }\n",
       "\n",
       "    .dataframe tbody tr th {\n",
       "        vertical-align: top;\n",
       "    }\n",
       "\n",
       "    .dataframe thead th {\n",
       "        text-align: right;\n",
       "    }\n",
       "</style>\n",
       "<table border=\"1\" class=\"dataframe\">\n",
       "  <thead>\n",
       "    <tr style=\"text-align: right;\">\n",
       "      <th></th>\n",
       "      <th>one</th>\n",
       "      <th>two</th>\n",
       "    </tr>\n",
       "  </thead>\n",
       "  <tbody>\n",
       "    <tr>\n",
       "      <th>a</th>\n",
       "      <td>0.0</td>\n",
       "      <td>4.0</td>\n",
       "    </tr>\n",
       "    <tr>\n",
       "      <th>b</th>\n",
       "      <td>NaN</td>\n",
       "      <td>2.0</td>\n",
       "    </tr>\n",
       "    <tr>\n",
       "      <th>c</th>\n",
       "      <td>2.0</td>\n",
       "      <td>5.0</td>\n",
       "    </tr>\n",
       "    <tr>\n",
       "      <th>d</th>\n",
       "      <td>NaN</td>\n",
       "      <td>6.0</td>\n",
       "    </tr>\n",
       "    <tr>\n",
       "      <th>e</th>\n",
       "      <td>1.0</td>\n",
       "      <td>NaN</td>\n",
       "    </tr>\n",
       "  </tbody>\n",
       "</table>\n",
       "</div>"
      ],
      "text/plain": [
       "   one  two\n",
       "a  0.0  4.0\n",
       "b  NaN  2.0\n",
       "c  2.0  5.0\n",
       "d  NaN  6.0\n",
       "e  1.0  NaN"
      ]
     },
     "execution_count": 40,
     "metadata": {},
     "output_type": "execute_result"
    }
   ],
   "source": [
    "#Dataframe form dict of a Series:\n",
    "#remember: Series operations is ordered based on idex\n",
    "\n",
    "d = {\"one\": pd.Series([0,1,2], index=[\"a\",\"e\",\"c\"]),\n",
    "     \"two\": pd.Series([2,4,5,6], index=[\"b\",\"a\",\"c\",\"d\"])}\n",
    "df = pd.DataFrame(d)\n",
    "df"
   ]
  },
  {
   "cell_type": "code",
   "execution_count": null,
   "id": "6a67c6bf-a4ed-4684-af48-7f9987357221",
   "metadata": {},
   "outputs": [],
   "source": []
  },
  {
   "cell_type": "code",
   "execution_count": null,
   "id": "aefab5c5-03d7-41ea-a741-ace4be84d2b7",
   "metadata": {},
   "outputs": [],
   "source": []
  },
  {
   "cell_type": "code",
   "execution_count": null,
   "id": "24537f58-7e24-4380-b3b6-03e997935eaf",
   "metadata": {},
   "outputs": [],
   "source": []
  },
  {
   "cell_type": "code",
   "execution_count": 42,
   "id": "a60bbd94-1f3b-452a-bf0f-ea952704e22a",
   "metadata": {},
   "outputs": [
    {
     "data": {
      "text/html": [
       "<div>\n",
       "<style scoped>\n",
       "    .dataframe tbody tr th:only-of-type {\n",
       "        vertical-align: middle;\n",
       "    }\n",
       "\n",
       "    .dataframe tbody tr th {\n",
       "        vertical-align: top;\n",
       "    }\n",
       "\n",
       "    .dataframe thead th {\n",
       "        text-align: right;\n",
       "    }\n",
       "</style>\n",
       "<table border=\"1\" class=\"dataframe\">\n",
       "  <thead>\n",
       "    <tr style=\"text-align: right;\">\n",
       "      <th></th>\n",
       "      <th>Eins</th>\n",
       "      <th>Zwei</th>\n",
       "    </tr>\n",
       "  </thead>\n",
       "  <tbody>\n",
       "    <tr>\n",
       "      <th>a</th>\n",
       "      <td>0.0</td>\n",
       "      <td>4.0</td>\n",
       "    </tr>\n",
       "    <tr>\n",
       "      <th>b</th>\n",
       "      <td>NaN</td>\n",
       "      <td>2.0</td>\n",
       "    </tr>\n",
       "  </tbody>\n",
       "</table>\n",
       "</div>"
      ],
      "text/plain": [
       "   Eins  Zwei\n",
       "a   0.0   4.0\n",
       "b   NaN   2.0"
      ]
     },
     "execution_count": 42,
     "metadata": {},
     "output_type": "execute_result"
    }
   ],
   "source": [
    "# rename colums:\n",
    "df = df.rename(columns= {\n",
    "    'one': 'Eins',\n",
    "    'two': 'Zwei'    \n",
    "})\n",
    "df.head(2)"
   ]
  },
  {
   "cell_type": "code",
   "execution_count": null,
   "id": "e95f247a-5051-4a85-a57c-624e2ea30d25",
   "metadata": {},
   "outputs": [],
   "source": [
    "#set colums as Index:\n",
    "# inplace = no copy of df\n",
    "df.set_index('number', inplace = True)"
   ]
  },
  {
   "cell_type": "code",
   "execution_count": null,
   "id": "944bb423-d4b8-414b-9d0a-c46f4c8bb94b",
   "metadata": {},
   "outputs": [],
   "source": []
  },
  {
   "cell_type": "code",
   "execution_count": null,
   "id": "cabe8c75-373d-4b17-8648-cb972c99ae3e",
   "metadata": {},
   "outputs": [],
   "source": []
  },
  {
   "cell_type": "code",
   "execution_count": null,
   "id": "da5d64eb-86ce-43a0-979d-b572058561b8",
   "metadata": {},
   "outputs": [],
   "source": []
  },
  {
   "cell_type": "code",
   "execution_count": 45,
   "id": "ea740407-75ff-4fde-9d6d-0121563a0bf9",
   "metadata": {},
   "outputs": [
    {
     "data": {
      "text/plain": [
       "pandas.core.series.Series"
      ]
     },
     "execution_count": 45,
     "metadata": {},
     "output_type": "execute_result"
    }
   ],
   "source": [
    "#Shapes and dims\n",
    "\n",
    "df.shape\n",
    "\n",
    "#n dimensions\n",
    "df.ndim\n",
    "\n",
    "#type of col\n",
    "type(df.Eins)"
   ]
  },
  {
   "cell_type": "code",
   "execution_count": null,
   "id": "31945ed8-d306-4b5b-926e-149f5cdaed70",
   "metadata": {},
   "outputs": [],
   "source": [
    "#Make a Copy of df: pd.DataFrame.copy()\n",
    "#most df stuff are inplace operations thats why its good to do a copy\n",
    "\n",
    "df_copy = df.copy(deep = True)"
   ]
  },
  {
   "cell_type": "code",
   "execution_count": 47,
   "id": "5e0ddb74-4b82-4e1b-8ac3-f1a53c56dba6",
   "metadata": {},
   "outputs": [
    {
     "data": {
      "text/html": [
       "<div>\n",
       "<style scoped>\n",
       "    .dataframe tbody tr th:only-of-type {\n",
       "        vertical-align: middle;\n",
       "    }\n",
       "\n",
       "    .dataframe tbody tr th {\n",
       "        vertical-align: top;\n",
       "    }\n",
       "\n",
       "    .dataframe thead th {\n",
       "        text-align: right;\n",
       "    }\n",
       "</style>\n",
       "<table border=\"1\" class=\"dataframe\">\n",
       "  <thead>\n",
       "    <tr style=\"text-align: right;\">\n",
       "      <th></th>\n",
       "      <th>Eins</th>\n",
       "      <th>Zwei</th>\n",
       "    </tr>\n",
       "  </thead>\n",
       "  <tbody>\n",
       "    <tr>\n",
       "      <th>count</th>\n",
       "      <td>3.0</td>\n",
       "      <td>4.000000</td>\n",
       "    </tr>\n",
       "    <tr>\n",
       "      <th>mean</th>\n",
       "      <td>1.0</td>\n",
       "      <td>4.250000</td>\n",
       "    </tr>\n",
       "    <tr>\n",
       "      <th>std</th>\n",
       "      <td>1.0</td>\n",
       "      <td>1.707825</td>\n",
       "    </tr>\n",
       "    <tr>\n",
       "      <th>min</th>\n",
       "      <td>0.0</td>\n",
       "      <td>2.000000</td>\n",
       "    </tr>\n",
       "    <tr>\n",
       "      <th>25%</th>\n",
       "      <td>0.5</td>\n",
       "      <td>3.500000</td>\n",
       "    </tr>\n",
       "    <tr>\n",
       "      <th>50%</th>\n",
       "      <td>1.0</td>\n",
       "      <td>4.500000</td>\n",
       "    </tr>\n",
       "    <tr>\n",
       "      <th>75%</th>\n",
       "      <td>1.5</td>\n",
       "      <td>5.250000</td>\n",
       "    </tr>\n",
       "    <tr>\n",
       "      <th>max</th>\n",
       "      <td>2.0</td>\n",
       "      <td>6.000000</td>\n",
       "    </tr>\n",
       "  </tbody>\n",
       "</table>\n",
       "</div>"
      ],
      "text/plain": [
       "       Eins      Zwei\n",
       "count   3.0  4.000000\n",
       "mean    1.0  4.250000\n",
       "std     1.0  1.707825\n",
       "min     0.0  2.000000\n",
       "25%     0.5  3.500000\n",
       "50%     1.0  4.500000\n",
       "75%     1.5  5.250000\n",
       "max     2.0  6.000000"
      ]
     },
     "execution_count": 47,
     "metadata": {},
     "output_type": "execute_result"
    }
   ],
   "source": [
    "#Summary of Df\n",
    "df.describe()"
   ]
  },
  {
   "cell_type": "code",
   "execution_count": null,
   "id": "3915b2b3-378d-4dff-aa07-272037370eb5",
   "metadata": {},
   "outputs": [],
   "source": []
  },
  {
   "cell_type": "code",
   "execution_count": 49,
   "id": "9738ff19-b75a-4803-b1e2-72e4b4444b7d",
   "metadata": {},
   "outputs": [
    {
     "name": "stdout",
     "output_type": "stream",
     "text": [
      "<class 'pandas.core.frame.DataFrame'>\n",
      "Index: 5 entries, a to e\n",
      "Data columns (total 2 columns):\n",
      " #   Column  Non-Null Count  Dtype  \n",
      "---  ------  --------------  -----  \n",
      " 0   Eins    3 non-null      float64\n",
      " 1   Zwei    4 non-null      float64\n",
      "dtypes: float64(2)\n",
      "memory usage: 120.0+ bytes\n"
     ]
    },
    {
     "data": {
      "text/plain": [
       "Index    40\n",
       "Eins     40\n",
       "Zwei     40\n",
       "dtype: int64"
      ]
     },
     "execution_count": 49,
     "metadata": {},
     "output_type": "execute_result"
    }
   ],
   "source": [
    "#Info of Df\n",
    "\n",
    "df.info()\n",
    "df.memory_usage()\n",
    "df.memory_usage().sum() /1024**2 #In mb"
   ]
  },
  {
   "cell_type": "code",
   "execution_count": null,
   "id": "307b5974-8f17-4500-bdcf-69b4b30c273b",
   "metadata": {},
   "outputs": [],
   "source": []
  },
  {
   "cell_type": "code",
   "execution_count": null,
   "id": "d3ce4eb4-84c7-4b15-b3c0-fffaef60762f",
   "metadata": {},
   "outputs": [],
   "source": []
  },
  {
   "cell_type": "markdown",
   "id": "32c09572-c3e1-4061-a278-8277c7983272",
   "metadata": {},
   "source": [
    "### Indexing"
   ]
  },
  {
   "cell_type": "code",
   "execution_count": 64,
   "id": "7f9b4e7a-2f35-4166-85ee-984c6666de15",
   "metadata": {},
   "outputs": [],
   "source": [
    "#access 1. rows\n",
    "df.iloc[0] \n",
    "\n",
    "#access 1. col\n",
    "df.iloc[:,0]\n",
    "\n",
    "#access row by name:\n",
    "df[\"Eins\"]\n",
    "df.Eins\n",
    "\n",
    "#returns DataFrame\n",
    "df[['Eins','Zwei']]\n",
    "df[['Eins']]\n",
    "\n",
    "#add colums\n",
    "df['tmp'] = 11/10\n",
    "df.head()\n",
    "\n",
    "#drop colums (alternative del)\n",
    "df.drop('tmp', axis = 1, inplace = True)"
   ]
  },
  {
   "cell_type": "code",
   "execution_count": null,
   "id": "1531e0a9-7e1a-4253-8118-7431c4a2832c",
   "metadata": {},
   "outputs": [],
   "source": []
  },
  {
   "cell_type": "markdown",
   "id": "e54bb844-5f97-44dd-8851-3dfd4fe2f3b5",
   "metadata": {},
   "source": [
    "### Selecting Filtering Subsetting\n"
   ]
  },
  {
   "cell_type": "code",
   "execution_count": 65,
   "id": "77e685a6-6561-4767-b266-90769534a349",
   "metadata": {},
   "outputs": [
    {
     "data": {
      "text/html": [
       "<div>\n",
       "<style scoped>\n",
       "    .dataframe tbody tr th:only-of-type {\n",
       "        vertical-align: middle;\n",
       "    }\n",
       "\n",
       "    .dataframe tbody tr th {\n",
       "        vertical-align: top;\n",
       "    }\n",
       "\n",
       "    .dataframe thead th {\n",
       "        text-align: right;\n",
       "    }\n",
       "</style>\n",
       "<table border=\"1\" class=\"dataframe\">\n",
       "  <thead>\n",
       "    <tr style=\"text-align: right;\">\n",
       "      <th></th>\n",
       "      <th>Eins</th>\n",
       "      <th>Zwei</th>\n",
       "    </tr>\n",
       "  </thead>\n",
       "  <tbody>\n",
       "    <tr>\n",
       "      <th>c</th>\n",
       "      <td>2.0</td>\n",
       "      <td>5.0</td>\n",
       "    </tr>\n",
       "  </tbody>\n",
       "</table>\n",
       "</div>"
      ],
      "text/plain": [
       "   Eins  Zwei\n",
       "c   2.0   5.0"
      ]
     },
     "execution_count": 65,
     "metadata": {},
     "output_type": "execute_result"
    }
   ],
   "source": [
    "df[(df.Eins == 2) & (df.Zwei == 5)]"
   ]
  },
  {
   "cell_type": "code",
   "execution_count": null,
   "id": "2b19643d-0e84-414b-994e-8b7a11beddae",
   "metadata": {},
   "outputs": [],
   "source": []
  },
  {
   "cell_type": "code",
   "execution_count": null,
   "id": "19ecf63b-8e7e-4d80-9651-50f229a5fc35",
   "metadata": {},
   "outputs": [],
   "source": []
  },
  {
   "cell_type": "code",
   "execution_count": null,
   "id": "0117dff4-371e-4d16-a88b-cd5a0dc4e17c",
   "metadata": {},
   "outputs": [],
   "source": [
    "#Index based filtering: (index starts with 1!!!!)\n",
    "\n",
    "#loc: label based (starts with 1)\n",
    "#from row 5 to 25 (inclusive) every 3rd row\n",
    "df.loc[5:25:3,['code', 'teacher']]\n",
    "\n",
    "\n",
    "#iloc: (integer based: starts with 0 und ende ist nicht inclusive\n",
    "#from row 6 bis row 25\n",
    "df[['department_code','teachers']].iloc[5:25:3]\n",
    "\n",
    "\n"
   ]
  },
  {
   "cell_type": "markdown",
   "id": "8da11d2a-003d-46f4-a36f-1f55ea6940fa",
   "metadata": {},
   "source": [
    "### Subset with Mask"
   ]
  },
  {
   "cell_type": "code",
   "execution_count": null,
   "id": "28369590-a220-4361-ac66-ebe516eff838",
   "metadata": {},
   "outputs": [],
   "source": []
  },
  {
   "cell_type": "code",
   "execution_count": null,
   "id": "43e1899f-0c7e-4872-a71d-e7fa73a26b1f",
   "metadata": {},
   "outputs": [],
   "source": []
  },
  {
   "cell_type": "code",
   "execution_count": null,
   "id": "ede56f29-4c1e-418d-bfbd-28883e6a9272",
   "metadata": {},
   "outputs": [],
   "source": []
  },
  {
   "cell_type": "code",
   "execution_count": null,
   "id": "b04bc9cb-b52b-466e-8f69-519da520b569",
   "metadata": {},
   "outputs": [],
   "source": [
    "#select only observations for IES\n",
    "df_ies = df.loc[df['department_code'] == 'ies']\n",
    "df_ies = df[(df['department_code'] == 'ies')]\n",
    "\n",
    "#Inverse: select only NOT IES\n",
    "df_ies = df[~(df['department_code'] == 'ies')]\n",
    "\n",
    "\n",
    "#Multiple Conditions:\n",
    "df.loc[(df['course_title'] == 'Advanced Econometrics') & (~df['c_improve'].isnull())].head(2)\n",
    "\n",
    " df[(df['department_code'] == 'ies') & ~(df['improve'].isnull())]"
   ]
  },
  {
   "cell_type": "markdown",
   "id": "3b1fc37d-bdd0-4231-84ba-4595d7dc3d60",
   "metadata": {},
   "source": [
    "### Subset with other stuff"
   ]
  },
  {
   "cell_type": "code",
   "execution_count": null,
   "id": "54221dc0-c996-4cfb-b096-24fbdcc0949c",
   "metadata": {},
   "outputs": [],
   "source": [
    "#subset based on substrings: all columns containing q\n",
    "df_q = df[[x for x in df.columns if 'q' in x]]\n",
    "\n",
    "#based on first letter\n",
    "df_q = df[[x for x in df.columns if  x.startswith(\"q\") in x]]\n",
    "\n",
    "#based on name length: 2 or 3\n",
    "df[[x for x in df.columns if (len(x) == 2) | (len(x) == 3)]]\n"
   ]
  },
  {
   "cell_type": "markdown",
   "id": "b50cfc71-303c-46b2-9e02-56c5dcf3e15f",
   "metadata": {},
   "source": [
    "### Pandas Functions"
   ]
  },
  {
   "cell_type": "code",
   "execution_count": null,
   "id": "59e15c44-bead-49d0-a681-470446bbae48",
   "metadata": {},
   "outputs": [],
   "source": [
    "#apply()\n",
    "\n",
    "#columnswise axis = 0\n",
    "df_q.apply(np.mean, axis=0)\n",
    "df.mean(axis = 0)\n",
    "\n",
    "#rowise axis = 1\n",
    "df_q.apply(np.mean, axis=1)\n",
    "df.mean(axis =1)\n",
    "\n",
    "\n",
    "\n",
    "#Aplly for cols or rows\n",
    "#Apply Anonymous Function: Lambda\n",
    "\n",
    "#Lambda \"Argument\": Funktion,\n",
    "#Additional Apply Parameter axis\n",
    "# standardization to unit variance\n",
    "df_q.apply(lambda x: (x - np.mean(x)) / np.std(x), axis=0)\n",
    "\n",
    "#Apply costum function\n",
    "def add_and_substract(df, sub=1, add=1):\n",
    "    return df - sub + add\n",
    "    \n",
    "df_q.apply(add_and_substract, args=(1, -1))\n",
    "\n",
    "\n",
    "#first occurence of longest comment:\n",
    "df.loc[df[\"c_value\"].apply(lambda x:len(str(x))).idxmax(),[\"seminar_leaders\", \"c_value\"]]\n",
    "\n",
    "\n",
    "df[\"c_value\"].apply(lambda x: len(str(x))).idxmax()\n",
    "\n",
    "\n",
    "#Map: \"apply\" for Series: returns Series\n",
    "doubled = list(map(lambda x: x * 2, x)) # map applies the function to each element of the list\n",
    "\n",
    "\n",
    "\n",
    "#Sorted:\n",
    "sorted_pairs = sorted(pairs, key=lambda x: x[1])"
   ]
  },
  {
   "cell_type": "markdown",
   "id": "0c955098-d296-4220-a099-7b2b59223a16",
   "metadata": {},
   "source": [
    "Aggregate"
   ]
  },
  {
   "cell_type": "code",
   "execution_count": null,
   "id": "c9c8cbbc-13ce-40d5-9778-8fd52afbbb5f",
   "metadata": {},
   "outputs": [],
   "source": []
  },
  {
   "cell_type": "code",
   "execution_count": null,
   "id": "724144b9-a4ae-484c-9936-50a01cf4460a",
   "metadata": {},
   "outputs": [],
   "source": []
  },
  {
   "cell_type": "code",
   "execution_count": null,
   "id": "270b502e-cf13-452e-a1a9-4e86d405dd89",
   "metadata": {},
   "outputs": [],
   "source": []
  },
  {
   "cell_type": "code",
   "execution_count": null,
   "id": "3a7351ef-322e-4a87-a90b-f493e4c3ccc2",
   "metadata": {},
   "outputs": [],
   "source": []
  },
  {
   "cell_type": "code",
   "execution_count": null,
   "id": "616b0cee-7f45-4ceb-a9b0-72a14ca3f9ba",
   "metadata": {},
   "outputs": [],
   "source": [
    "# aggregating simple function is the same as apply\n",
    "df_q.agg(np.mean, axis=0)"
   ]
  },
  {
   "cell_type": "code",
   "execution_count": null,
   "id": "2952a291-46c0-43f1-824b-1c6f792bc012",
   "metadata": {},
   "outputs": [],
   "source": [
    "\n",
    "#column wise mean,std,min,max\n",
    "df_q.aggregate([pd.Series.mean, pd.Series.std, pd.Series.min, pd.Series.max], axis=0)\n",
    "\n",
    "#for specific columns do specific operations:\n",
    "df_q.agg({'q1' : [np.mean], 'q2': np.std, 'q3': [np.mean, np.std, np.var]})\n"
   ]
  },
  {
   "cell_type": "markdown",
   "id": "73689e05-e769-4275-bf79-ed4fcdae5a01",
   "metadata": {},
   "source": [
    "Transform"
   ]
  },
  {
   "cell_type": "code",
   "execution_count": null,
   "id": "b6af8bf3-3be7-438e-998c-666158a1c1e7",
   "metadata": {},
   "outputs": [],
   "source": [
    "df_q.transform(lambda x: np.power(x,2))"
   ]
  },
  {
   "cell_type": "code",
   "execution_count": null,
   "id": "d70c0123-59ab-4e1a-9350-4dda048da1f0",
   "metadata": {},
   "outputs": [],
   "source": [
    "# absolute value and ad 1\n",
    "df_q.transform([np.abs, lambda x: x + 1])\n",
    "\n",
    "#only absolut:\n",
    "df_abs = np.abs(df_q)"
   ]
  },
  {
   "cell_type": "markdown",
   "id": "22577fed-c0c6-49ef-a1f2-2cf72ecb8cbf",
   "metadata": {},
   "source": [
    "Missing Values"
   ]
  },
  {
   "cell_type": "markdown",
   "id": "5fc4cec1-66cb-4fe4-a886-f79a0a8e2cdb",
   "metadata": {},
   "source": [
    "Missing Values"
   ]
  },
  {
   "cell_type": "code",
   "execution_count": null,
   "id": "4889f2e0-61ef-4075-981b-538bfac0cbe3",
   "metadata": {},
   "outputs": [],
   "source": []
  },
  {
   "cell_type": "code",
   "execution_count": null,
   "id": "12cea22f-457c-456c-8ab3-5e65d228b7ed",
   "metadata": {},
   "outputs": [],
   "source": [
    "#return Teacher column without NANs und NAs: isnull() = isna()\n",
    "df.teachers.notnull()\n",
    "\n",
    "# % missing values \n",
    "df.isnull().sum() / len(df) * 100\n",
    "#% Percentage of missing values for column q1\n",
    "df[\"q1\"].isnull().sum() / df[\"q1\"].count()\n",
    "\n",
    "#plot:\n",
    "(df.isnull().sum() / df.shape[0]).sort_values().plot.bar()\n",
    "\n",
    "\n",
    "#drop all missing values:\n",
    "df.dropna()"
   ]
  },
  {
   "cell_type": "markdown",
   "id": "c4e142af-a72a-4d7e-b1c2-4b28e4f43a08",
   "metadata": {},
   "source": [
    "### Load Data"
   ]
  },
  {
   "cell_type": "code",
   "execution_count": null,
   "id": "2ddf38bf-5ac8-4860-ae2d-b3b22aa0f9f5",
   "metadata": {},
   "outputs": [],
   "source": [
    "#CSV:\n",
    "\n",
    "pd.read_csv(\"data/data_2017.csv\", sep = ';', on_bad_lines = 'skip')\n",
    "\n",
    "\n",
    "pd.write_csv()"
   ]
  },
  {
   "cell_type": "markdown",
   "id": "fa59cd43-7126-43ad-bd7c-eadcc5b95647",
   "metadata": {},
   "source": [
    "## Matplotlib"
   ]
  },
  {
   "cell_type": "code",
   "execution_count": null,
   "id": "d735ddeb-5e0f-4202-8c19-8402b0d377bb",
   "metadata": {},
   "outputs": [],
   "source": [
    "# Might need seaborn also\n",
    "!pip install seaborn\n",
    "import seaborn as sns"
   ]
  },
  {
   "cell_type": "code",
   "execution_count": null,
   "id": "93e48dfe-9636-4837-b8a9-b055bfd82872",
   "metadata": {},
   "outputs": [],
   "source": [
    "#Set the default style settings:\n",
    "plotconfig = {\n",
    "    'style': '.'\n",
    "    'grid' : True,\n",
    "    'markersize':5,\n",
    "    'figsize':(10,4)   \n",
    "}"
   ]
  },
  {
   "cell_type": "markdown",
   "id": "6cde32ad-4667-47e3-8138-72018d60fd2f",
   "metadata": {},
   "source": [
    "### Simple Plots"
   ]
  },
  {
   "cell_type": "code",
   "execution_count": null,
   "id": "49bd381d-31d6-4884-a7fa-d70d07aeefcb",
   "metadata": {},
   "outputs": [],
   "source": [
    "df['column'].plot()\n",
    "\n",
    "#with config:\n",
    "df['column'].plot(**plotconfig)"
   ]
  },
  {
   "cell_type": "code",
   "execution_count": null,
   "id": "d119e246-9034-491d-b3ac-d73e072cd84c",
   "metadata": {},
   "outputs": [],
   "source": [
    "#included sets in seaborn:\n",
    "sns.get_dataset_names()\n",
    "sns.load_dataset(\"t"
   ]
  },
  {
   "cell_type": "markdown",
   "id": "e83cd280-c8af-424e-8737-41f83c65c788",
   "metadata": {},
   "source": [
    "### Filtering"
   ]
  },
  {
   "cell_type": "code",
   "execution_count": null,
   "id": "da7dd457-9f99-4d60-9031-54c9631c6d47",
   "metadata": {},
   "outputs": [],
   "source": [
    "#more complicated example with ax object"
   ]
  },
  {
   "cell_type": "code",
   "execution_count": null,
   "id": "8885af0d-9f16-4444-8e0c-d956b7d7a81c",
   "metadata": {},
   "outputs": [],
   "source": [
    "CSSR = covid.loc[covid['iso_code'].isin(['SVK','CZE'])] \n"
   ]
  },
  {
   "cell_type": "code",
   "execution_count": null,
   "id": "faf5dcc6-379a-490a-9ec3-a34c555af101",
   "metadata": {},
   "outputs": [],
   "source": []
  },
  {
   "cell_type": "code",
   "execution_count": null,
   "id": "a615e799-bf62-4dce-ae8c-dbe5e8464021",
   "metadata": {},
   "outputs": [],
   "source": []
  },
  {
   "cell_type": "markdown",
   "id": "e786b497-c3cb-4646-8db8-7d73a3c7e498",
   "metadata": {},
   "source": [
    "### Histogram"
   ]
  },
  {
   "cell_type": "code",
   "execution_count": null,
   "id": "7017cb64-e606-43aa-b4bc-5a5491c9da9e",
   "metadata": {},
   "outputs": [],
   "source": [
    "sns.histplot(data=penguins, \n",
    "             x=\"flipper_length_mm\", \n",
    "             hue= \"spezies\", #coloring based on\n",
    "             multiple = \"stack\")"
   ]
  },
  {
   "cell_type": "code",
   "execution_count": null,
   "id": "2da9d921-6fa7-4a0e-b8e7-546f25bee0d5",
   "metadata": {},
   "outputs": [],
   "source": [
    "#Scatterplot : Streudiagramme für alle numerischen variablen: \n",
    "sns.pairplot(penguins, hue=\"species\")"
   ]
  },
  {
   "cell_type": "code",
   "execution_count": null,
   "id": "40aaf113-dc4d-44f6-9d70-76503129bb41",
   "metadata": {},
   "outputs": [],
   "source": []
  }
 ],
 "metadata": {
  "kernelspec": {
   "display_name": "Python 3 (ipykernel)",
   "language": "python",
   "name": "python3"
  },
  "language_info": {
   "codemirror_mode": {
    "name": "ipython",
    "version": 3
   },
   "file_extension": ".py",
   "mimetype": "text/x-python",
   "name": "python",
   "nbconvert_exporter": "python",
   "pygments_lexer": "ipython3",
   "version": "3.11.9"
  }
 },
 "nbformat": 4,
 "nbformat_minor": 5
}
